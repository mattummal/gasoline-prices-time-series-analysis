{
 "cells": [
  {
   "attachments": {},
   "cell_type": "markdown",
   "id": "W7G9brFaBKTd",
   "metadata": {
    "id": "W7G9brFaBKTd"
   },
   "source": [
    "## **Project Name:** Gasolinne Price Forecasting  using Tensor Flow and Auto Keras"
   ]
  },
  {
   "attachments": {},
   "cell_type": "markdown",
   "id": "wZGfAtd9Bd6e",
   "metadata": {
    "id": "wZGfAtd9Bd6e"
   },
   "source": [
    "## Gasoline Prices are going up continously these days and it has become very hard to predict what will be the price range in the next few months or even days.\n",
    "\n",
    "### In this project we will try to forecast the different gasoline prices for the upcoming dates given to us. \n",
    "\n",
    "### We will use LSTM and ARIMA forecasting models to predict the prices then we will see how we can implement the same using Auto Keras, which is an Auto ML Library."
   ]
  },
  {
   "attachments": {},
   "cell_type": "markdown",
   "id": "NeopOmsXCbpT",
   "metadata": {
    "id": "NeopOmsXCbpT"
   },
   "source": [
    "## Pipeline of the project:\n",
    "- Data Analysis\n",
    "- Model Building and predictions using ML techniques\n",
    "- Model Building and prediction using Auto Keras(Auto ML)"
   ]
  },
  {
   "cell_type": "markdown",
   "id": "QLg5ZonYCxh7",
   "metadata": {
    "id": "QLg5ZonYCxh7"
   },
   "source": [
    "**Importing Libraries**"
   ]
  },
  {
   "cell_type": "code",
   "execution_count": 1,
   "id": "e315f51b",
   "metadata": {
    "id": "e315f51b"
   },
   "outputs": [],
   "source": [
    "import pandas as pd\n",
    "import numpy as np\n",
    "from matplotlib import pyplot as plt\n",
    "%matplotlib inline\n",
    "import matplotlib "
   ]
  },
  {
   "cell_type": "code",
   "execution_count": 4,
   "id": "23e09038",
   "metadata": {
    "id": "23e09038"
   },
   "outputs": [
    {
     "data": {
      "text/html": [
       "<div>\n",
       "<style scoped>\n",
       "    .dataframe tbody tr th:only-of-type {\n",
       "        vertical-align: middle;\n",
       "    }\n",
       "\n",
       "    .dataframe tbody tr th {\n",
       "        vertical-align: top;\n",
       "    }\n",
       "\n",
       "    .dataframe thead th {\n",
       "        text-align: right;\n",
       "    }\n",
       "</style>\n",
       "<table border=\"1\" class=\"dataframe\">\n",
       "  <thead>\n",
       "    <tr style=\"text-align: right;\">\n",
       "      <th></th>\n",
       "      <th>Date</th>\n",
       "      <th>Petrol (USD)</th>\n",
       "    </tr>\n",
       "  </thead>\n",
       "  <tbody>\n",
       "    <tr>\n",
       "      <th>0</th>\n",
       "      <td>6/9/2003</td>\n",
       "      <td>74.59</td>\n",
       "    </tr>\n",
       "    <tr>\n",
       "      <th>1</th>\n",
       "      <td>6/16/2003</td>\n",
       "      <td>74.47</td>\n",
       "    </tr>\n",
       "    <tr>\n",
       "      <th>2</th>\n",
       "      <td>6/23/2003</td>\n",
       "      <td>74.42</td>\n",
       "    </tr>\n",
       "    <tr>\n",
       "      <th>3</th>\n",
       "      <td>6/30/2003</td>\n",
       "      <td>74.35</td>\n",
       "    </tr>\n",
       "    <tr>\n",
       "      <th>4</th>\n",
       "      <td>7/7/2003</td>\n",
       "      <td>74.28</td>\n",
       "    </tr>\n",
       "  </tbody>\n",
       "</table>\n",
       "</div>"
      ],
      "text/plain": [
       "        Date  Petrol (USD)\n",
       "0   6/9/2003         74.59\n",
       "1  6/16/2003         74.47\n",
       "2  6/23/2003         74.42\n",
       "3  6/30/2003         74.35\n",
       "4   7/7/2003         74.28"
      ]
     },
     "execution_count": 4,
     "metadata": {},
     "output_type": "execute_result"
    }
   ],
   "source": [
    "data = pd.read_csv(\"C:/Programming Practice Notebooks/PROJECTS/Gasoline Price Forecasting/train_data.csv\")\n",
    "data.head()"
   ]
  },
  {
   "cell_type": "markdown",
   "id": "E7SE4p_WHk-v",
   "metadata": {
    "id": "E7SE4p_WHk-v"
   },
   "source": [
    "**Data Analysis and splitting the data**"
   ]
  },
  {
   "cell_type": "code",
   "execution_count": 10,
   "id": "yRE7X5FfSeqt",
   "metadata": {
    "id": "yRE7X5FfSeqt"
   },
   "outputs": [
    {
     "data": {
      "text/plain": [
       "Date            0\n",
       "Petrol (USD)    2\n",
       "dtype: int64"
      ]
     },
     "execution_count": 10,
     "metadata": {},
     "output_type": "execute_result"
    }
   ],
   "source": [
    "data.head()\n",
    "data.isnull().sum()"
   ]
  },
  {
   "cell_type": "code",
   "execution_count": 11,
   "id": "ffb74343",
   "metadata": {
    "id": "ffb74343"
   },
   "outputs": [],
   "source": [
    "df = data.dropna()"
   ]
  },
  {
   "cell_type": "code",
   "execution_count": 12,
   "id": "e6c0da0d",
   "metadata": {
    "id": "e6c0da0d"
   },
   "outputs": [
    {
     "name": "stderr",
     "output_type": "stream",
     "text": [
      "C:\\Users\\prabhjyoth.mattummal\\AppData\\Local\\Temp\\ipykernel_14704\\3178545418.py:1: SettingWithCopyWarning: \n",
      "A value is trying to be set on a copy of a slice from a DataFrame\n",
      "\n",
      "See the caveats in the documentation: https://pandas.pydata.org/pandas-docs/stable/user_guide/indexing.html#returning-a-view-versus-a-copy\n",
      "  df.rename(columns={\"Petrol (USD)\": \"Gasoline\"}, inplace = True)\n"
     ]
    },
    {
     "data": {
      "text/html": [
       "<div>\n",
       "<style scoped>\n",
       "    .dataframe tbody tr th:only-of-type {\n",
       "        vertical-align: middle;\n",
       "    }\n",
       "\n",
       "    .dataframe tbody tr th {\n",
       "        vertical-align: top;\n",
       "    }\n",
       "\n",
       "    .dataframe thead th {\n",
       "        text-align: right;\n",
       "    }\n",
       "</style>\n",
       "<table border=\"1\" class=\"dataframe\">\n",
       "  <thead>\n",
       "    <tr style=\"text-align: right;\">\n",
       "      <th></th>\n",
       "      <th>Date</th>\n",
       "      <th>Gasoline</th>\n",
       "    </tr>\n",
       "  </thead>\n",
       "  <tbody>\n",
       "    <tr>\n",
       "      <th>0</th>\n",
       "      <td>6/9/2003</td>\n",
       "      <td>74.59</td>\n",
       "    </tr>\n",
       "    <tr>\n",
       "      <th>1</th>\n",
       "      <td>6/16/2003</td>\n",
       "      <td>74.47</td>\n",
       "    </tr>\n",
       "    <tr>\n",
       "      <th>2</th>\n",
       "      <td>6/23/2003</td>\n",
       "      <td>74.42</td>\n",
       "    </tr>\n",
       "    <tr>\n",
       "      <th>3</th>\n",
       "      <td>6/30/2003</td>\n",
       "      <td>74.35</td>\n",
       "    </tr>\n",
       "    <tr>\n",
       "      <th>4</th>\n",
       "      <td>7/7/2003</td>\n",
       "      <td>74.28</td>\n",
       "    </tr>\n",
       "  </tbody>\n",
       "</table>\n",
       "</div>"
      ],
      "text/plain": [
       "        Date  Gasoline\n",
       "0   6/9/2003     74.59\n",
       "1  6/16/2003     74.47\n",
       "2  6/23/2003     74.42\n",
       "3  6/30/2003     74.35\n",
       "4   7/7/2003     74.28"
      ]
     },
     "execution_count": 12,
     "metadata": {},
     "output_type": "execute_result"
    }
   ],
   "source": [
    "df.rename(columns={\"Gasoline (USD)\": \"Gasoline\"}, inplace = True)\n",
    "df.head()"
   ]
  },
  {
   "cell_type": "code",
   "execution_count": 13,
   "id": "hqggRBHHN0QI",
   "metadata": {
    "id": "hqggRBHHN0QI"
   },
   "outputs": [
    {
     "data": {
      "text/plain": [
       "<matplotlib.collections.PathCollection at 0x2356c588130>"
      ]
     },
     "execution_count": 13,
     "metadata": {},
     "output_type": "execute_result"
    },
    {
     "data": {
      "image/png": "[encoded data removed]",
      "text/plain": [
       "<Figure size 640x480 with 1 Axes>"
      ]
     },
     "metadata": {},
     "output_type": "display_data"
    }
   ],
   "source": [
    "plt.scatter(df.Date, df.Gasoline,color='red',label='Prices', s=50)"
   ]
  },
  {
   "cell_type": "code",
   "execution_count": 14,
   "id": "538544df",
   "metadata": {
    "id": "538544df"
   },
   "outputs": [
    {
     "data": {
      "text/plain": [
       "<matplotlib.collections.PathCollection at 0x2356e7fded0>"
      ]
     },
     "execution_count": 14,
     "metadata": {},
     "output_type": "execute_result"
    },
    {
     "data": {
      "image/png": "[encoded data removed]",
      "text/plain": [
       "<Figure size 640x480 with 1 Axes>"
      ]
     },
     "metadata": {},
     "output_type": "display_data"
    }
   ],
   "source": [
    "df2=df[df.Gasoline<160]\n",
    "plt.scatter(df2.Date, df2.Gasoline,color='blue',label='Prices', s=50)\n"
   ]
  },
  {
   "cell_type": "code",
   "execution_count": 15,
   "id": "3670d115",
   "metadata": {
    "id": "3670d115"
   },
   "outputs": [
    {
     "data": {
      "text/plain": [
       "0    74.59\n",
       "1    74.47\n",
       "2    74.42\n",
       "3    74.35\n",
       "4    74.28\n",
       "Name: Gasoline, dtype: float64"
      ]
     },
     "execution_count": 15,
     "metadata": {},
     "output_type": "execute_result"
    }
   ],
   "source": [
    "df3=df2.reset_index()['Gasoline']\n",
    "df3.head()"
   ]
  },
  {
   "attachments": {},
   "cell_type": "markdown",
   "id": "098a0ed6",
   "metadata": {},
   "source": [
    "LSTM models are sensitive to the scale of the data, so we need to transform the data to be in the range [0, 1] using MinMaxScaler."
   ]
  },
  {
   "cell_type": "code",
   "execution_count": 16,
   "id": "2d8aa241",
   "metadata": {
    "id": "2d8aa241"
   },
   "outputs": [],
   "source": [
    "from sklearn.preprocessing import MinMaxScaler\n",
    "scaler = MinMaxScaler(feature_range=(0,1))\n",
    "df3 = scaler.fit_transform(np.array(df3).reshape(-1,1))"
   ]
  },
  {
   "attachments": {},
   "cell_type": "markdown",
   "id": "ac14939c",
   "metadata": {},
   "source": [
    "Train-Test Split"
   ]
  },
  {
   "cell_type": "code",
   "execution_count": 18,
   "id": "1a123c80",
   "metadata": {
    "id": "1a123c80"
   },
   "outputs": [],
   "source": [
    "training_size = int(len(df3)*0.65)    # 65% of the training data\n",
    "\n",
    "test_size = len(df3) - training_size\n",
    "\n",
    "train_data, test_data = df3[0:training_size,:], df3[training_size:len(df3),:1]"
   ]
  },
  {
   "cell_type": "code",
   "execution_count": 19,
   "id": "IQfKh3_yTwhE",
   "metadata": {
    "id": "IQfKh3_yTwhE"
   },
   "outputs": [
    {
     "data": {
      "text/plain": [
       "(284, 1)"
      ]
     },
     "execution_count": 19,
     "metadata": {},
     "output_type": "execute_result"
    }
   ],
   "source": [
    "train_data.shape\n",
    "test_data.shape"
   ]
  },
  {
   "cell_type": "markdown",
   "id": "tYDEjWEoZauH",
   "metadata": {
    "id": "tYDEjWEoZauH"
   },
   "source": [
    "**Data Preprocessing**"
   ]
  },
  {
   "cell_type": "code",
   "execution_count": null,
   "id": "0dc8a949",
   "metadata": {
    "id": "0dc8a949"
   },
   "outputs": [],
   "source": [
    " import numpy\n",
    "# convert an array of values into a dataset matrix\n",
    "def create_dataset(dataset, time_step=1):\n",
    "\tdataX, dataY = [], []\n",
    "\tfor i in range(len(dataset)-time_step-1):\n",
    "\t\ta = dataset[i:(i+time_step), 0]   ###i=0, 0,1,2,3-----99   100 \n",
    "\t\tdataX.append(a)\n",
    "\t\tdataY.append(dataset[i + time_step, 0])\n",
    "\treturn numpy.array(dataX), numpy.array(dataY)"
   ]
  },
  {
   "cell_type": "code",
   "execution_count": null,
   "id": "39785275",
   "metadata": {
    "id": "39785275"
   },
   "outputs": [],
   "source": [
    "# reshape into X=t,t+1,t+2,t+3 and Y=t+4\n",
    "time_step = 100\n",
    "X_train, y_train = create_dataset(train_data, time_step)\n",
    "X_test, ytest = create_dataset(test_data, time_step)"
   ]
  },
  {
   "cell_type": "code",
   "execution_count": null,
   "id": "mLHLpdmpcBlC",
   "metadata": {
    "id": "mLHLpdmpcBlC"
   },
   "outputs": [],
   "source": [
    "X_train"
   ]
  },
  {
   "cell_type": "code",
   "execution_count": null,
   "id": "8o7UzuZEcFhl",
   "metadata": {
    "id": "8o7UzuZEcFhl"
   },
   "outputs": [],
   "source": [
    "y_train"
   ]
  },
  {
   "cell_type": "code",
   "execution_count": null,
   "id": "005e586d",
   "metadata": {
    "id": "005e586d"
   },
   "outputs": [],
   "source": [
    "print(X_train.shape), print(y_train.shape)"
   ]
  },
  {
   "cell_type": "markdown",
   "id": "bJLSlRVajL9P",
   "metadata": {
    "id": "bJLSlRVajL9P"
   },
   "source": [
    "# LSTM "
   ]
  },
  {
   "cell_type": "code",
   "execution_count": null,
   "id": "5a9aae2a",
   "metadata": {
    "id": "5a9aae2a"
   },
   "outputs": [],
   "source": [
    "X_train =X_train.reshape(X_train.shape[0],X_train.shape[1] , 1)\n",
    "X_test = X_test.reshape(X_test.shape[0],X_test.shape[1] , 1)"
   ]
  },
  {
   "cell_type": "code",
   "execution_count": null,
   "id": "869c9a75",
   "metadata": {
    "id": "869c9a75"
   },
   "outputs": [],
   "source": [
    "from tensorflow.keras.models import Sequential\n",
    "\n",
    "from tensorflow.keras.layers import Dense\n",
    "from tensorflow.keras.layers import LSTM\n",
    "model=Sequential()\n",
    "model.add(LSTM(50,return_sequences=True,input_shape=(100,1)))\n",
    "model.add(LSTM(50,return_sequences=True))\n",
    "model.add(LSTM(50))\n",
    "model.add(Dense(1))\n",
    "model.compile(loss='mean_squared_error',optimizer='adam')"
   ]
  },
  {
   "cell_type": "code",
   "execution_count": null,
   "id": "baa8cd08",
   "metadata": {
    "id": "baa8cd08"
   },
   "outputs": [],
   "source": [
    "model.fit(X_train,y_train,validation_data=(X_test,ytest),epochs=100,batch_size=64,verbose=1)"
   ]
  },
  {
   "cell_type": "code",
   "execution_count": null,
   "id": "62dabcc0",
   "metadata": {
    "id": "62dabcc0"
   },
   "outputs": [],
   "source": [
    "### Lets Do the prediction and check performance metrics\n",
    "train_predict=model.predict(X_train)\n",
    "test_predict=model.predict(X_test)"
   ]
  },
  {
   "cell_type": "code",
   "execution_count": null,
   "id": "b9fccd41",
   "metadata": {
    "id": "b9fccd41"
   },
   "outputs": [],
   "source": [
    "##Transformback to original form\n",
    "train_predict=scaler.inverse_transform(train_predict)\n",
    "test_predict=scaler.inverse_transform(test_predict)"
   ]
  },
  {
   "cell_type": "code",
   "execution_count": null,
   "id": "be5b24de",
   "metadata": {
    "id": "be5b24de"
   },
   "outputs": [],
   "source": [
    "### Plotting \n",
    "# shift train predictions for plotting\n",
    "look_back=100\n",
    "trainPredictPlot = numpy.empty_like(df4)\n",
    "trainPredictPlot[:, :] = np.nan\n",
    "trainPredictPlot[look_back:len(train_predict)+look_back, :] = train_predict\n",
    "# shift test predictions for plotting\n",
    "testPredictPlot = numpy.empty_like(df4)\n",
    "testPredictPlot[:, :] = numpy.nan\n",
    "testPredictPlot[len(train_predict)+(look_back*2)+1:len(df4)-1, :] = test_predict\n",
    "# plot baseline and predictions\n",
    "plt.plot(scaler.inverse_transform(df4))\n",
    "plt.plot(trainPredictPlot)\n",
    "plt.plot(testPredictPlot)\n",
    "plt.show()"
   ]
  },
  {
   "cell_type": "code",
   "execution_count": null,
   "id": "7b036aac",
   "metadata": {
    "id": "7b036aac"
   },
   "outputs": [],
   "source": [
    "df_test=pd.read_csv(\"test_data.csv\")\n",
    "df_test.head()"
   ]
  },
  {
   "cell_type": "code",
   "execution_count": null,
   "id": "00d514c6",
   "metadata": {
    "id": "00d514c6"
   },
   "outputs": [],
   "source": [
    "model.save(\"prtrol price prediction\")"
   ]
  },
  {
   "cell_type": "markdown",
   "id": "hpAqppG-OFe7",
   "metadata": {
    "id": "hpAqppG-OFe7"
   },
   "source": [
    "## **Using ARIMA**"
   ]
  },
  {
   "cell_type": "code",
   "execution_count": null,
   "id": "RZPU8JPWnZSy",
   "metadata": {
    "id": "RZPU8JPWnZSy"
   },
   "outputs": [],
   "source": [
    "!pip install --upgrade patsy"
   ]
  },
  {
   "cell_type": "code",
   "execution_count": null,
   "id": "gD6Y2IDNl0os",
   "metadata": {
    "id": "gD6Y2IDNl0os"
   },
   "outputs": [],
   "source": [
    "!pip install statsmodels"
   ]
  },
  {
   "cell_type": "code",
   "execution_count": null,
   "id": "Y5dPBU9Enk85",
   "metadata": {
    "id": "Y5dPBU9Enk85"
   },
   "outputs": [],
   "source": [
    "!pip install --upgrade --no-deps statsmodels"
   ]
  },
  {
   "cell_type": "code",
   "execution_count": null,
   "id": "ajeghoPZDx7C",
   "metadata": {
    "id": "ajeghoPZDx7C"
   },
   "outputs": [],
   "source": [
    "import pandas as pd\n",
    "from statsmodels.tsa.arima.model import ARIMA\n",
    "from matplotlib import pyplot as plt\n",
    "from pandas import read_csv\n",
    "from pandas import datetime \n",
    "from matplotlib import pyplot\n",
    "\n",
    "from sklearn.metrics import mean_squared_error\n",
    "from math import sqrt"
   ]
  },
  {
   "cell_type": "code",
   "execution_count": null,
   "id": "ZWaJ03yno2SX",
   "metadata": {
    "id": "ZWaJ03yno2SX"
   },
   "outputs": [],
   "source": [
    "df = pd.read_csv(\"/content/drive/MyDrive/train_data.csv\")\n",
    "df.head()"
   ]
  },
  {
   "cell_type": "code",
   "execution_count": null,
   "id": "9iVm6Jl1pruM",
   "metadata": {
    "id": "9iVm6Jl1pruM"
   },
   "outputs": [],
   "source": [
    "df.rename(columns={\"Gasoline (USD)\": \"Gasoline\"}, inplace = True)\n",
    "df.head()"
   ]
  },
  {
   "cell_type": "code",
   "execution_count": null,
   "id": "nCDqO0KUD2Tq",
   "metadata": {
    "id": "nCDqO0KUD2Tq"
   },
   "outputs": [],
   "source": [
    "df2 = df.dropna()\n",
    "df3=df2[df2.Gasoline<160]\n",
    "df3.head()\n"
   ]
  },
  {
   "cell_type": "code",
   "execution_count": null,
   "id": "rgmu2cLaqDCE",
   "metadata": {
    "id": "rgmu2cLaqDCE"
   },
   "outputs": [],
   "source": [
    "df4=df3.reset_index()['Gasoline']\n",
    "df4.head()"
   ]
  },
  {
   "cell_type": "code",
   "execution_count": null,
   "id": "vks4TdPaD6OS",
   "metadata": {
    "id": "vks4TdPaD6OS"
   },
   "outputs": [],
   "source": [
    "model1 = ARIMA(df4.values, order=(5,1,0))\n",
    "model_fit1 = model1.fit()\n",
    "output1= model_fit1.forecast(steps=30)\n",
    "output1"
   ]
  },
  {
   "cell_type": "markdown",
   "id": "iVKwRTmDnxwd",
   "metadata": {
    "id": "iVKwRTmDnxwd"
   },
   "source": [
    "# Using Auto ML"
   ]
  },
  {
   "cell_type": "markdown",
   "id": "uNVmRVGun23V",
   "metadata": {
    "id": "uNVmRVGun23V"
   },
   "source": [
    " ![download.png](data:image/png;base64,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)"
   ]
  },
  {
   "cell_type": "markdown",
   "id": "5nEy2U0hoGEZ",
   "metadata": {
    "id": "5nEy2U0hoGEZ"
   },
   "source": [
    "## AutoKeras: An AutoML system based on Keras. It is developed by DATA Lab at Texas A&M University"
   ]
  },
  {
   "cell_type": "markdown",
   "id": "lThRUPGnoIZZ",
   "metadata": {
    "id": "lThRUPGnoIZZ"
   },
   "source": [
    "## Installing Auto Keras"
   ]
  },
  {
   "cell_type": "code",
   "execution_count": null,
   "id": "dfe88bcc",
   "metadata": {
    "id": "dfe88bcc"
   },
   "outputs": [],
   "source": [
    "!pip install git+https://github.com/keras-team/keras-tuner.git@1.0.2rc1\n"
   ]
  },
  {
   "cell_type": "code",
   "execution_count": null,
   "id": "b1ea1595",
   "metadata": {
    "id": "b1ea1595"
   },
   "outputs": [],
   "source": [
    "!pip install autokeras"
   ]
  },
  {
   "cell_type": "code",
   "execution_count": null,
   "id": "3A0tyai90XP4",
   "metadata": {
    "id": "3A0tyai90XP4"
   },
   "outputs": [],
   "source": [
    "!pip show autokeras"
   ]
  },
  {
   "cell_type": "code",
   "execution_count": null,
   "id": "jE_IvaIs1O3z",
   "metadata": {
    "id": "jE_IvaIs1O3z"
   },
   "outputs": [],
   "source": [
    "import numpy as np\n",
    "import pandas as pd\n",
    "import tensorflow as tf\n",
    "\n",
    "\n",
    "import autokeras as ak"
   ]
  },
  {
   "cell_type": "code",
   "execution_count": null,
   "id": "OdAi99490vlO",
   "metadata": {
    "id": "OdAi99490vlO"
   },
   "outputs": [],
   "source": [
    "reg = ak.StructuredDataRegressor(\n",
    "    overwrite=True, max_trials=3\n",
    ")"
   ]
  },
  {
   "cell_type": "code",
   "execution_count": null,
   "id": "yaD54ZIB05_N",
   "metadata": {
    "id": "yaD54ZIB05_N"
   },
   "outputs": [],
   "source": [
    "reg.fit(x=X_train, y=y_train, verbose=0)"
   ]
  },
  {
   "cell_type": "code",
   "execution_count": null,
   "id": "_EAR0zb41keP",
   "metadata": {
    "id": "_EAR0zb41keP"
   },
   "outputs": [],
   "source": [
    "\n",
    "# evaluate the model\n",
    "mae, _  = reg.evaluate(X_test, ytest, verbose=0)\n",
    "#print('MAE: %.3f' % mae)\n",
    "# use the model to make a prediction\n",
    "yhat_test = reg.predict(X_test)\n",
    "\n",
    "# get the best performing model\n",
    "model = reg.export_model()\n"
   ]
  },
  {
   "cell_type": "code",
   "execution_count": null,
   "id": "XFyX-Bur2SgJ",
   "metadata": {
    "id": "XFyX-Bur2SgJ"
   },
   "outputs": [],
   "source": [
    "# summarize the loaded model\n",
    "model.summary()"
   ]
  },
  {
   "cell_type": "code",
   "execution_count": null,
   "id": "VWny4-JW2pKW",
   "metadata": {
    "id": "VWny4-JW2pKW"
   },
   "outputs": [],
   "source": [
    "yhat_train= reg.predict(X_train)"
   ]
  },
  {
   "cell_type": "code",
   "execution_count": null,
   "id": "KIjUsMMz2r1Z",
   "metadata": {
    "id": "KIjUsMMz2r1Z"
   },
   "outputs": [],
   "source": [
    "train_predict=scaler.inverse_transform(yhat_train)\n",
    "test_predict=scaler.inverse_transform(yhat_test)"
   ]
  },
  {
   "cell_type": "code",
   "execution_count": null,
   "id": "0zK6AKcq3aZp",
   "metadata": {
    "id": "0zK6AKcq3aZp"
   },
   "outputs": [],
   "source": [
    "from sklearn.metrics import mean_squared_error"
   ]
  },
  {
   "cell_type": "code",
   "execution_count": null,
   "id": "4EknM_n43gSF",
   "metadata": {
    "id": "4EknM_n43gSF"
   },
   "outputs": [],
   "source": [
    "mean_squared_error(ytest,yhat_test)"
   ]
  },
  {
   "cell_type": "code",
   "execution_count": null,
   "id": "iQSmVcMGwWQc",
   "metadata": {
    "id": "iQSmVcMGwWQc"
   },
   "outputs": [],
   "source": [
    "mean_squared_error(y_train,yhat_train)"
   ]
  },
  {
   "cell_type": "code",
   "execution_count": null,
   "id": "3dI3AUtDwd-E",
   "metadata": {
    "id": "3dI3AUtDwd-E"
   },
   "outputs": [],
   "source": []
  }
 ],
 "metadata": {
  "colab": {
   "collapsed_sections": [],
   "name": "New petrol prediction.ipynb",
   "provenance": []
  },
  "kernelspec": {
   "display_name": "Python 3",
   "language": "python",
   "name": "python3"
  },
  "language_info": {
   "codemirror_mode": {
    "name": "ipython",
    "version": 3
   },
   "file_extension": ".py",
   "mimetype": "text/x-python",
   "name": "python",
   "nbconvert_exporter": "python",
   "pygments_lexer": "ipython3",
   "version": "3.10.9"
  }
 },
 "nbformat": 4,
 "nbformat_minor": 5
}
