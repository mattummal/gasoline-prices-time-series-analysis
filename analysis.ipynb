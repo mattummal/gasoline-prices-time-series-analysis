{
 "cells": [
  {
   "attachments": {},
   "cell_type": "markdown",
   "id": "W7G9brFaBKTd",
   "metadata": {
    "id": "W7G9brFaBKTd"
   },
   "source": [
    " # Gasoline Price Predictive Analysis: using Tensor Flow and Auto Keras"
   ]
  },
  {
   "attachments": {},
   "cell_type": "markdown",
   "id": "wZGfAtd9Bd6e",
   "metadata": {
    "id": "wZGfAtd9Bd6e"
   },
   "source": [
    "## Gasoline Prices are going up continously these days and it has become very hard to predict what will be the price range in the next few months or even days.\n",
    "\n",
    "### In this project we will try to forecast the different gasoline prices for the upcoming dates given to us. \n",
    "\n",
    "### We will use LSTM and ARIMA forecasting models to predict the prices then we will see how we can implement the same using Auto Keras, which is an Auto ML Library."
   ]
  },
  {
   "attachments": {},
   "cell_type": "markdown",
   "id": "NeopOmsXCbpT",
   "metadata": {
    "id": "NeopOmsXCbpT"
   },
   "source": [
    "## Pipeline of the project:\n",
    "- Data Analysis\n",
    "- Model Building and predictions using ML techniques\n",
    "- Model Building and prediction using Auto Keras(Auto ML)"
   ]
  },
  {
   "cell_type": "markdown",
   "id": "QLg5ZonYCxh7",
   "metadata": {
    "id": "QLg5ZonYCxh7"
   },
   "source": [
    "**Importing Libraries**"
   ]
  },
  {
   "cell_type": "code",
   "execution_count": 1,
   "id": "e315f51b",
   "metadata": {
    "id": "e315f51b"
   },
   "outputs": [],
   "source": [
    "import pandas as pd\n",
    "import numpy as np\n",
    "from matplotlib import pyplot as plt\n",
    "%matplotlib inline\n",
    "import matplotlib "
   ]
  },
  {
   "cell_type": "code",
   "execution_count": 2,
   "id": "23e09038",
   "metadata": {
    "id": "23e09038"
   },
   "outputs": [
    {
     "data": {
      "text/html": [
       "<div>\n",
       "<style scoped>\n",
       "    .dataframe tbody tr th:only-of-type {\n",
       "        vertical-align: middle;\n",
       "    }\n",
       "\n",
       "    .dataframe tbody tr th {\n",
       "        vertical-align: top;\n",
       "    }\n",
       "\n",
       "    .dataframe thead th {\n",
       "        text-align: right;\n",
       "    }\n",
       "</style>\n",
       "<table border=\"1\" class=\"dataframe\">\n",
       "  <thead>\n",
       "    <tr style=\"text-align: right;\">\n",
       "      <th></th>\n",
       "      <th>Date</th>\n",
       "      <th>Petrol (USD)</th>\n",
       "    </tr>\n",
       "  </thead>\n",
       "  <tbody>\n",
       "    <tr>\n",
       "      <th>0</th>\n",
       "      <td>6/9/2003</td>\n",
       "      <td>74.59</td>\n",
       "    </tr>\n",
       "    <tr>\n",
       "      <th>1</th>\n",
       "      <td>6/16/2003</td>\n",
       "      <td>74.47</td>\n",
       "    </tr>\n",
       "    <tr>\n",
       "      <th>2</th>\n",
       "      <td>6/23/2003</td>\n",
       "      <td>74.42</td>\n",
       "    </tr>\n",
       "    <tr>\n",
       "      <th>3</th>\n",
       "      <td>6/30/2003</td>\n",
       "      <td>74.35</td>\n",
       "    </tr>\n",
       "    <tr>\n",
       "      <th>4</th>\n",
       "      <td>7/7/2003</td>\n",
       "      <td>74.28</td>\n",
       "    </tr>\n",
       "  </tbody>\n",
       "</table>\n",
       "</div>"
      ],
      "text/plain": [
       "        Date  Petrol (USD)\n",
       "0   6/9/2003         74.59\n",
       "1  6/16/2003         74.47\n",
       "2  6/23/2003         74.42\n",
       "3  6/30/2003         74.35\n",
       "4   7/7/2003         74.28"
      ]
     },
     "execution_count": 2,
     "metadata": {},
     "output_type": "execute_result"
    }
   ],
   "source": [
    "import os\n",
    "os.getcwd()\n",
    "\n",
    "data = pd.read_csv(\"train_data.csv\")\n",
    "data.head() "
   ]
  },
  {
   "cell_type": "markdown",
   "id": "E7SE4p_WHk-v",
   "metadata": {
    "id": "E7SE4p_WHk-v"
   },
   "source": [
    "**Data Analysis and splitting the data**"
   ]
  },
  {
   "cell_type": "code",
   "execution_count": 3,
   "id": "yRE7X5FfSeqt",
   "metadata": {
    "id": "yRE7X5FfSeqt"
   },
   "outputs": [
    {
     "data": {
      "text/plain": [
       "Date            0\n",
       "Petrol (USD)    2\n",
       "dtype: int64"
      ]
     },
     "execution_count": 3,
     "metadata": {},
     "output_type": "execute_result"
    }
   ],
   "source": [
    "data.head()\n",
    "data.isnull().sum()"
   ]
  },
  {
   "cell_type": "code",
   "execution_count": 4,
   "id": "ffb74343",
   "metadata": {
    "id": "ffb74343"
   },
   "outputs": [],
   "source": [
    "df = data.dropna()"
   ]
  },
  {
   "cell_type": "code",
   "execution_count": 5,
   "id": "e6c0da0d",
   "metadata": {
    "id": "e6c0da0d"
   },
   "outputs": [
    {
     "name": "stderr",
     "output_type": "stream",
     "text": [
      "C:\\Users\\prabhjyoth.mattummal\\AppData\\Local\\Temp\\ipykernel_22032\\3178545418.py:1: SettingWithCopyWarning: \n",
      "A value is trying to be set on a copy of a slice from a DataFrame\n",
      "\n",
      "See the caveats in the documentation: https://pandas.pydata.org/pandas-docs/stable/user_guide/indexing.html#returning-a-view-versus-a-copy\n",
      "  df.rename(columns={\"Petrol (USD)\": \"Gasoline\"}, inplace = True)\n"
     ]
    },
    {
     "data": {
      "text/html": [
       "<div>\n",
       "<style scoped>\n",
       "    .dataframe tbody tr th:only-of-type {\n",
       "        vertical-align: middle;\n",
       "    }\n",
       "\n",
       "    .dataframe tbody tr th {\n",
       "        vertical-align: top;\n",
       "    }\n",
       "\n",
       "    .dataframe thead th {\n",
       "        text-align: right;\n",
       "    }\n",
       "</style>\n",
       "<table border=\"1\" class=\"dataframe\">\n",
       "  <thead>\n",
       "    <tr style=\"text-align: right;\">\n",
       "      <th></th>\n",
       "      <th>Date</th>\n",
       "      <th>Gasoline</th>\n",
       "    </tr>\n",
       "  </thead>\n",
       "  <tbody>\n",
       "    <tr>\n",
       "      <th>0</th>\n",
       "      <td>6/9/2003</td>\n",
       "      <td>74.59</td>\n",
       "    </tr>\n",
       "    <tr>\n",
       "      <th>1</th>\n",
       "      <td>6/16/2003</td>\n",
       "      <td>74.47</td>\n",
       "    </tr>\n",
       "    <tr>\n",
       "      <th>2</th>\n",
       "      <td>6/23/2003</td>\n",
       "      <td>74.42</td>\n",
       "    </tr>\n",
       "    <tr>\n",
       "      <th>3</th>\n",
       "      <td>6/30/2003</td>\n",
       "      <td>74.35</td>\n",
       "    </tr>\n",
       "    <tr>\n",
       "      <th>4</th>\n",
       "      <td>7/7/2003</td>\n",
       "      <td>74.28</td>\n",
       "    </tr>\n",
       "  </tbody>\n",
       "</table>\n",
       "</div>"
      ],
      "text/plain": [
       "        Date  Gasoline\n",
       "0   6/9/2003     74.59\n",
       "1  6/16/2003     74.47\n",
       "2  6/23/2003     74.42\n",
       "3  6/30/2003     74.35\n",
       "4   7/7/2003     74.28"
      ]
     },
     "execution_count": 5,
     "metadata": {},
     "output_type": "execute_result"
    }
   ],
   "source": [
    "df.rename(columns={\"Petrol (USD)\": \"Gasoline\"}, inplace = True)\n",
    "df.head()"
   ]
  },
  {
   "cell_type": "code",
   "execution_count": 11,
   "id": "hqggRBHHN0QI",
   "metadata": {
    "id": "hqggRBHHN0QI"
   },
   "outputs": [
    {
     "data": {
      "text/plain": [
       "<matplotlib.collections.PathCollection at 0x26a6e6de200>"
      ]
     },
     "execution_count": 11,
     "metadata": {},
     "output_type": "execute_result"
    },
    {
     "data": {
      "image/png": "[encoded data removed]",
      "text/plain": [
       "<Figure size 640x480 with 1 Axes>"
      ]
     },
     "metadata": {},
     "output_type": "display_data"
    }
   ],
   "source": [
    "plt.scatter(df.Date, df.Gasoline,color='red',label='Prices', s=50)"
   ]
  },
  {
   "cell_type": "code",
   "execution_count": 12,
   "id": "538544df",
   "metadata": {
    "id": "538544df"
   },
   "outputs": [
    {
     "data": {
      "text/plain": [
       "<matplotlib.collections.PathCollection at 0x26a6927afe0>"
      ]
     },
     "execution_count": 12,
     "metadata": {},
     "output_type": "execute_result"
    },
    {
     "data": {
      "image/png": "[encoded data removed]",
      "text/plain": [
       "<Figure size 640x480 with 1 Axes>"
      ]
     },
     "metadata": {},
     "output_type": "display_data"
    }
   ],
   "source": [
    "df2 = df[df.Gasoline<160]\n",
    "\n",
    "plt.scatter(df2.Date, df2.Gasoline,color='blue',label='Prices', s=50)\n"
   ]
  },
  {
   "cell_type": "code",
   "execution_count": 13,
   "id": "3670d115",
   "metadata": {
    "id": "3670d115"
   },
   "outputs": [
    {
     "data": {
      "text/plain": [
       "0    74.59\n",
       "1    74.47\n",
       "2    74.42\n",
       "3    74.35\n",
       "4    74.28\n",
       "Name: Gasoline, dtype: float64"
      ]
     },
     "execution_count": 13,
     "metadata": {},
     "output_type": "execute_result"
    }
   ],
   "source": [
    "df3 = df2.reset_index()['Gasoline']\n",
    "df3.head()"
   ]
  },
  {
   "attachments": {},
   "cell_type": "markdown",
   "id": "098a0ed6",
   "metadata": {},
   "source": [
    "LSTM models are sensitive to the scale of the data, so we need to transform the data to be in the range [0, 1] using MinMaxScaler."
   ]
  },
  {
   "cell_type": "code",
   "execution_count": 14,
   "id": "2d8aa241",
   "metadata": {
    "id": "2d8aa241"
   },
   "outputs": [],
   "source": [
    "from sklearn.preprocessing import MinMaxScaler\n",
    "\n",
    "scaler = MinMaxScaler(feature_range=(0,1))\n",
    "df3 = scaler.fit_transform(np.array(df3).reshape(-1,1))"
   ]
  },
  {
   "attachments": {},
   "cell_type": "markdown",
   "id": "ac14939c",
   "metadata": {},
   "source": [
    "Train-Test Split"
   ]
  },
  {
   "cell_type": "code",
   "execution_count": 15,
   "id": "1a123c80",
   "metadata": {
    "id": "1a123c80"
   },
   "outputs": [],
   "source": [
    "training_size = int(len(df3)*0.65)    # 65% of the training data\n",
    "test_size = len(df3) - training_size\n",
    "train_data, test_data = df3[0:training_size,:], df3[training_size:len(df3),:1]"
   ]
  },
  {
   "cell_type": "code",
   "execution_count": 16,
   "id": "IQfKh3_yTwhE",
   "metadata": {
    "id": "IQfKh3_yTwhE"
   },
   "outputs": [
    {
     "data": {
      "text/plain": [
       "(284, 1)"
      ]
     },
     "execution_count": 16,
     "metadata": {},
     "output_type": "execute_result"
    }
   ],
   "source": [
    "train_data.shape\n",
    "test_data.shape"
   ]
  },
  {
   "attachments": {},
   "cell_type": "markdown",
   "id": "tYDEjWEoZauH",
   "metadata": {
    "id": "tYDEjWEoZauH"
   },
   "source": [
    "## Data Preprocessing"
   ]
  },
  {
   "cell_type": "code",
   "execution_count": 17,
   "id": "0dc8a949",
   "metadata": {
    "id": "0dc8a949"
   },
   "outputs": [],
   "source": [
    "import numpy\n",
    " \n",
    "# convert an array of values into a dataset matrix\n",
    "\n",
    "def create_dataset(dataset, time_step=1):\n",
    "\tdataX, dataY = [], []\n",
    "\tfor i in range(len(dataset)-time_step-1):\n",
    "\t\ta = dataset[i:(i+time_step), 0]   ###i=0, 0,1,2,3-----99   100 \n",
    "\t\tdataX.append(a)\n",
    "\t\tdataY.append(dataset[i + time_step, 0])\n",
    "\treturn numpy.array(dataX), numpy.array(dataY)"
   ]
  },
  {
   "cell_type": "code",
   "execution_count": 21,
   "id": "39785275",
   "metadata": {
    "id": "39785275"
   },
   "outputs": [],
   "source": [
    "# reshape into X=t,t+1,t+2,t+3 and Y=t+4\n",
    "\n",
    "time_step = 100\n",
    "X_train, Y_train = create_dataset(train_data, time_step)\n",
    "X_test, Y_test = create_dataset(test_data, time_step)"
   ]
  },
  {
   "cell_type": "code",
   "execution_count": 48,
   "id": "mLHLpdmpcBlC",
   "metadata": {
    "id": "mLHLpdmpcBlC"
   },
   "outputs": [
    {
     "data": {
      "text/plain": [
       "array([[[0.00559152],\n",
       "        [0.00382578],\n",
       "        [0.00309005],\n",
       "        ...,\n",
       "        [0.16627428],\n",
       "        [0.16524426],\n",
       "        [0.1640671 ]],\n",
       "\n",
       "       [[0.00382578],\n",
       "        [0.00309005],\n",
       "        [0.00206004],\n",
       "        ...,\n",
       "        [0.16524426],\n",
       "        [0.1640671 ],\n",
       "        [0.16274279]],\n",
       "\n",
       "       [[0.00309005],\n",
       "        [0.00206004],\n",
       "        [0.00103002],\n",
       "        ...,\n",
       "        [0.1640671 ],\n",
       "        [0.16274279],\n",
       "        [0.15538552]],\n",
       "\n",
       "       ...,\n",
       "\n",
       "       [[0.91024132],\n",
       "        [0.91597999],\n",
       "        [0.90847557],\n",
       "        ...,\n",
       "        [0.88419659],\n",
       "        [0.88655091],\n",
       "        [0.88743378]],\n",
       "\n",
       "       [[0.91597999],\n",
       "        [0.90847557],\n",
       "        [0.88802237],\n",
       "        ...,\n",
       "        [0.88655091],\n",
       "        [0.88743378],\n",
       "        [0.87154208]],\n",
       "\n",
       "       [[0.90847557],\n",
       "        [0.88802237],\n",
       "        [0.88449088],\n",
       "        ...,\n",
       "        [0.88743378],\n",
       "        [0.87154208],\n",
       "        [0.87639788]]])"
      ]
     },
     "execution_count": 48,
     "metadata": {},
     "output_type": "execute_result"
    }
   ],
   "source": [
    "X_train"
   ]
  },
  {
   "cell_type": "code",
   "execution_count": 49,
   "id": "8o7UzuZEcFhl",
   "metadata": {
    "id": "8o7UzuZEcFhl"
   },
   "outputs": [
    {
     "data": {
      "text/plain": [
       "array([0.16274279, 0.15538552, 0.14670394, 0.14420247, 0.15862272,\n",
       "       0.16642142, 0.18422602, 0.19540906, 0.19894055, 0.21100647,\n",
       "       0.21762802, 0.22130665, 0.22748676, 0.2405827 , 0.24367275,\n",
       "       0.2532372 , 0.29664509, 0.30694526, 0.29723367, 0.28134197,\n",
       "       0.28399058, 0.29487934, 0.29326074, 0.283402  , 0.26868746,\n",
       "       0.24014126, 0.21188935, 0.19334903, 0.19334903, 0.19114185,\n",
       "       0.19643908, 0.20114773, 0.20335491, 0.21115362, 0.21777516,\n",
       "       0.22572101, 0.23057681, 0.22836963, 0.22719247, 0.22645674,\n",
       "       0.2230724 , 0.22572101, 0.23513832, 0.24941142, 0.25853443,\n",
       "       0.27310182, 0.29458505, 0.31106533, 0.32254267, 0.32739847,\n",
       "       0.32636845, 0.32210124, 0.31121248, 0.30944673, 0.31312537,\n",
       "       0.31238964, 0.30547381, 0.30988817, 0.31606828, 0.33357858,\n",
       "       0.34682166, 0.34755739, 0.35079459, 0.34741024, 0.316804  ,\n",
       "       0.29708652, 0.27472042, 0.25412007, 0.22910536, 0.20585639,\n",
       "       0.18746321, 0.18231313, 0.17216009, 0.16965862, 0.16759859,\n",
       "       0.16671572, 0.16597999, 0.1656857 , 0.16553855, 0.19467334,\n",
       "       0.19849912, 0.20144202, 0.2007063 , 0.19791054, 0.18967039,\n",
       "       0.17760447, 0.16848146, 0.16789288, 0.17525015, 0.18231313,\n",
       "       0.18922896, 0.1990877 , 0.20997646, 0.216598  , 0.22233667,\n",
       "       0.23925839, 0.24970571, 0.26162448, 0.27545615, 0.28310771,\n",
       "       0.29752796, 0.30694526, 0.31636257, 0.32298411, 0.3281342 ,\n",
       "       0.32960565, 0.32886992, 0.32857563, 0.32592702, 0.32357269,\n",
       "       0.32371984, 0.32401413, 0.32357269, 0.32283696, 0.32062978,\n",
       "       0.31047675, 0.30591524, 0.30297234, 0.30047087, 0.30076516,\n",
       "       0.30459094, 0.32636845, 0.33740436, 0.33814008, 0.3472631 ,\n",
       "       0.35388464, 0.37007063, 0.39037669, 0.4011183 , 0.4108299 ,\n",
       "       0.41745144, 0.41877575, 0.41774573, 0.41671572, 0.41862861,\n",
       "       0.42907593, 0.43569747, 0.44158328, 0.44158328, 0.43878752,\n",
       "       0.43349029, 0.43393172, 0.44791054, 0.45659211, 0.46718658,\n",
       "       0.47380812, 0.48101825, 0.48396115, 0.48602119, 0.49146557,\n",
       "       0.50559152, 0.51927604, 0.53104768, 0.54193643, 0.57018835,\n",
       "       0.59711595, 0.61536198, 0.62757504, 0.63978811, 0.65082401,\n",
       "       0.65670983, 0.66318423, 0.66553855, 0.66494997, 0.62831077,\n",
       "       0.60108888, 0.5843143 , 0.55929959, 0.55635668, 0.5590053 ,\n",
       "       0.56415539, 0.5635668 , 0.53855209, 0.52442613, 0.51854032,\n",
       "       0.48307828, 0.41862861, 0.35918187, 0.34123014, 0.31901118,\n",
       "       0.30341377, 0.27339612, 0.25397293, 0.23469688, 0.21865803,\n",
       "       0.20306062, 0.19320188, 0.16494997, 0.17377869, 0.17628016,\n",
       "       0.19437905, 0.2052678 , 0.22174809, 0.2341083 , 0.23719835,\n",
       "       0.23646263, 0.23454974, 0.23469688, 0.23469688, 0.25220718,\n",
       "       0.28708064, 0.29281931, 0.30032372, 0.30782813, 0.31474397,\n",
       "       0.32931136, 0.34329017, 0.36330194, 0.37051207, 0.38816951,\n",
       "       0.40862272, 0.42083579, 0.42804591, 0.43201883, 0.42039435,\n",
       "       0.41215421, 0.41141848, 0.41421424, 0.42377869, 0.4377575 ,\n",
       "       0.44864626, 0.45467922, 0.48028252, 0.47410241, 0.46718658,\n",
       "       0.45953502, 0.45114773, 0.44879341, 0.45423779, 0.47895821,\n",
       "       0.48881695, 0.49867569, 0.50426722, 0.50794585, 0.50882872,\n",
       "       0.50662154, 0.50456151, 0.48940553, 0.4889641 , 0.51692172,\n",
       "       0.53722778, 0.55017657, 0.5541495 , 0.55473808, 0.55532666,\n",
       "       0.55444379, 0.54958799, 0.5622425 , 0.58122425, 0.60697469,\n",
       "       0.62360212, 0.63375515, 0.66333137, 0.67289582, 0.68187169,\n",
       "       0.68834609, 0.69114185, 0.69305474, 0.69290759, 0.67274868,\n",
       "       0.65229547, 0.64729253, 0.64243673, 0.64140671, 0.64258387,\n",
       "       0.64302531, 0.63537375, 0.6274279 , 0.62389641, 0.62242496,\n",
       "       0.62007063, 0.61992348, 0.60962331, 0.59991171, 0.59417304,\n",
       "       0.59520306, 0.60108888, 0.60594467, 0.61506769, 0.62639788,\n",
       "       0.63375515, 0.64052384, 0.64699823, 0.65420836, 0.65612125,\n",
       "       0.65891701, 0.66215421, 0.68172454, 0.69849912, 0.70776928,\n",
       "       0.7243967 , 0.7451442 , 0.78266627, 0.78958211, 0.79664509,\n",
       "       0.79958799, 0.8009123 , 0.80223661, 0.80503237, 0.816804  ,\n",
       "       0.83975868, 0.85300177, 0.86668629, 0.85682755, 0.86227192,\n",
       "       0.87507357, 0.89537964, 0.90361978, 0.91347852, 0.92466157,\n",
       "       0.91509712, 0.9108299 , 0.90288405, 0.90361978, 0.90715127,\n",
       "       0.90965274, 0.89243673, 0.87139494, 0.88243084, 0.89405533,\n",
       "       0.90420836, 0.91024132, 0.91597999, 0.90847557, 0.88802237,\n",
       "       0.88449088, 0.88890524, 0.89449676, 0.90038258, 0.90406121,\n",
       "       0.89479105, 0.88669806, 0.88699235, 0.88949382, 0.89052384,\n",
       "       0.88581519, 0.87507357, 0.87065921, 0.86756916, 0.86183049,\n",
       "       0.85815185, 0.85756327, 0.85638611, 0.85623896, 0.86035903,\n",
       "       0.8693349 , 0.87566215, 0.88125368, 0.88346086, 0.89302531,\n",
       "       0.89758682, 0.91230135, 0.9283402 , 0.93716892, 0.95276633,\n",
       "       0.96041789, 0.98263685, 0.99705709, 1.        , 0.99396704,\n",
       "       0.98278399, 0.97012949, 0.94290759, 0.90582696, 0.8852266 ,\n",
       "       0.8806651 , 0.87492643, 0.850206  , 0.84373161, 0.82828134,\n",
       "       0.83652148, 0.84284873, 0.8534432 , 0.86183049, 0.87080636,\n",
       "       0.88375515, 0.90509123, 0.92539729, 0.93908181, 0.95203061,\n",
       "       0.95953502, 0.96130077, 0.94496763, 0.94217187, 0.94379046,\n",
       "       0.94290759, 0.92363155, 0.91553855, 0.89582107, 0.88802237,\n",
       "       0.88537375, 0.86580341, 0.85844614, 0.85005886, 0.84961742,\n",
       "       0.84917599, 0.84829311, 0.85035315, 0.8534432 , 0.86433196,\n",
       "       0.88537375, 0.9027369 , 0.9218658 , 0.94599765, 0.96027075,\n",
       "       0.96806945, 0.93246027, 0.92525015, 0.9283402 , 0.92848735,\n",
       "       0.92554444, 0.90450265, 0.88949382, 0.87124779, 0.86683343,\n",
       "       0.86756916, 0.87448499, 0.88037081, 0.88419659, 0.88655091,\n",
       "       0.88743378, 0.87154208, 0.87639788, 0.89376104])"
      ]
     },
     "execution_count": 49,
     "metadata": {},
     "output_type": "execute_result"
    }
   ],
   "source": [
    "Y_train"
   ]
  },
  {
   "cell_type": "code",
   "execution_count": 24,
   "id": "005e586d",
   "metadata": {
    "id": "005e586d"
   },
   "outputs": [
    {
     "name": "stdout",
     "output_type": "stream",
     "text": [
      "(424, 100)\n",
      "(424,)\n"
     ]
    },
    {
     "data": {
      "text/plain": [
       "(None, None)"
      ]
     },
     "execution_count": 24,
     "metadata": {},
     "output_type": "execute_result"
    }
   ],
   "source": [
    "print(X_train.shape), print(Y_train.shape)"
   ]
  },
  {
   "attachments": {},
   "cell_type": "markdown",
   "id": "bJLSlRVajL9P",
   "metadata": {
    "id": "bJLSlRVajL9P"
   },
   "source": [
    "# LSTM \n",
    "The Long Short-Term Memory (LSTM) is a recurrent neural network that learns to predict the next"
   ]
  },
  {
   "cell_type": "code",
   "execution_count": 25,
   "id": "5a9aae2a",
   "metadata": {
    "id": "5a9aae2a"
   },
   "outputs": [],
   "source": [
    "X_train = X_train.reshape(X_train.shape[0],X_train.shape[1] , 1)\n",
    "X_test = X_test.reshape(X_test.shape[0],X_test.shape[1] , 1)"
   ]
  },
  {
   "cell_type": "code",
   "execution_count": 26,
   "id": "869c9a75",
   "metadata": {
    "id": "869c9a75"
   },
   "outputs": [],
   "source": [
    "from tensorflow.keras.models import Sequential\n",
    "from tensorflow.keras.layers import Dense\n",
    "from tensorflow.keras.layers import LSTM\n",
    "\n",
    "model = Sequential()\n",
    "model.add(LSTM(50,return_sequences=True,input_shape=(100,1)))\n",
    "model.add(LSTM(50,return_sequences=True))\n",
    "model.add(LSTM(50))\n",
    "model.add(Dense(1))\n",
    "model.compile(loss='mean_squared_error',optimizer='adam')"
   ]
  },
  {
   "cell_type": "code",
   "execution_count": 27,
   "id": "baa8cd08",
   "metadata": {
    "id": "baa8cd08"
   },
   "outputs": [
    {
     "name": "stdout",
     "output_type": "stream",
     "text": [
      "Epoch 1/100\n",
      "7/7 [==============================] - 5s 244ms/step - loss: 0.1728 - val_loss: 0.0842\n",
      "Epoch 2/100\n",
      "7/7 [==============================] - 2s 233ms/step - loss: 0.0345 - val_loss: 0.0183\n",
      "Epoch 3/100\n",
      "7/7 [==============================] - 2s 232ms/step - loss: 0.0268 - val_loss: 0.0050\n",
      "Epoch 4/100\n",
      "7/7 [==============================] - 2s 297ms/step - loss: 0.0136 - val_loss: 0.0120\n",
      "Epoch 5/100\n",
      "7/7 [==============================] - 2s 275ms/step - loss: 0.0106 - val_loss: 0.0057\n",
      "Epoch 6/100\n",
      "7/7 [==============================] - 2s 264ms/step - loss: 0.0090 - val_loss: 0.0051\n",
      "Epoch 7/100\n",
      "7/7 [==============================] - 2s 228ms/step - loss: 0.0076 - val_loss: 0.0038\n",
      "Epoch 8/100\n",
      "7/7 [==============================] - 2s 242ms/step - loss: 0.0067 - val_loss: 0.0035\n",
      "Epoch 9/100\n",
      "7/7 [==============================] - 1s 213ms/step - loss: 0.0066 - val_loss: 0.0038\n",
      "Epoch 10/100\n",
      "7/7 [==============================] - 2s 236ms/step - loss: 0.0066 - val_loss: 0.0034\n",
      "Epoch 11/100\n",
      "7/7 [==============================] - 2s 224ms/step - loss: 0.0065 - val_loss: 0.0035\n",
      "Epoch 12/100\n",
      "7/7 [==============================] - 1s 214ms/step - loss: 0.0063 - val_loss: 0.0033\n",
      "Epoch 13/100\n",
      "7/7 [==============================] - 1s 211ms/step - loss: 0.0063 - val_loss: 0.0032\n",
      "Epoch 14/100\n",
      "7/7 [==============================] - 1s 209ms/step - loss: 0.0062 - val_loss: 0.0033\n",
      "Epoch 15/100\n",
      "7/7 [==============================] - 1s 196ms/step - loss: 0.0061 - val_loss: 0.0032\n",
      "Epoch 16/100\n",
      "7/7 [==============================] - 2s 218ms/step - loss: 0.0059 - val_loss: 0.0032\n",
      "Epoch 17/100\n",
      "7/7 [==============================] - 2s 251ms/step - loss: 0.0059 - val_loss: 0.0030\n",
      "Epoch 18/100\n",
      "7/7 [==============================] - 2s 276ms/step - loss: 0.0058 - val_loss: 0.0032\n",
      "Epoch 19/100\n",
      "7/7 [==============================] - 2s 262ms/step - loss: 0.0057 - val_loss: 0.0030\n",
      "Epoch 20/100\n",
      "7/7 [==============================] - 2s 256ms/step - loss: 0.0055 - val_loss: 0.0030\n",
      "Epoch 21/100\n",
      "7/7 [==============================] - 2s 249ms/step - loss: 0.0054 - val_loss: 0.0028\n",
      "Epoch 22/100\n",
      "7/7 [==============================] - 2s 272ms/step - loss: 0.0053 - val_loss: 0.0027\n",
      "Epoch 23/100\n",
      "7/7 [==============================] - 2s 245ms/step - loss: 0.0051 - val_loss: 0.0028\n",
      "Epoch 24/100\n",
      "7/7 [==============================] - 2s 244ms/step - loss: 0.0051 - val_loss: 0.0026\n",
      "Epoch 25/100\n",
      "7/7 [==============================] - 2s 262ms/step - loss: 0.0050 - val_loss: 0.0028\n",
      "Epoch 26/100\n",
      "7/7 [==============================] - 2s 268ms/step - loss: 0.0049 - val_loss: 0.0026\n",
      "Epoch 27/100\n",
      "7/7 [==============================] - 2s 247ms/step - loss: 0.0048 - val_loss: 0.0026\n",
      "Epoch 28/100\n",
      "7/7 [==============================] - 2s 257ms/step - loss: 0.0045 - val_loss: 0.0024\n",
      "Epoch 29/100\n",
      "7/7 [==============================] - 2s 253ms/step - loss: 0.0046 - val_loss: 0.0031\n",
      "Epoch 30/100\n",
      "7/7 [==============================] - 2s 261ms/step - loss: 0.0046 - val_loss: 0.0022\n",
      "Epoch 31/100\n",
      "7/7 [==============================] - 2s 251ms/step - loss: 0.0042 - val_loss: 0.0024\n",
      "Epoch 32/100\n",
      "7/7 [==============================] - 2s 242ms/step - loss: 0.0040 - val_loss: 0.0020\n",
      "Epoch 33/100\n",
      "7/7 [==============================] - 2s 246ms/step - loss: 0.0039 - val_loss: 0.0027\n",
      "Epoch 34/100\n",
      "7/7 [==============================] - 2s 260ms/step - loss: 0.0040 - val_loss: 0.0022\n",
      "Epoch 35/100\n",
      "7/7 [==============================] - 2s 240ms/step - loss: 0.0040 - val_loss: 0.0030\n",
      "Epoch 36/100\n",
      "7/7 [==============================] - 2s 257ms/step - loss: 0.0041 - val_loss: 0.0020\n",
      "Epoch 37/100\n",
      "7/7 [==============================] - 2s 236ms/step - loss: 0.0037 - val_loss: 0.0017\n",
      "Epoch 38/100\n",
      "7/7 [==============================] - 2s 234ms/step - loss: 0.0037 - val_loss: 0.0038\n",
      "Epoch 39/100\n",
      "7/7 [==============================] - 2s 241ms/step - loss: 0.0037 - val_loss: 0.0017\n",
      "Epoch 40/100\n",
      "7/7 [==============================] - 1s 211ms/step - loss: 0.0030 - val_loss: 0.0019\n",
      "Epoch 41/100\n",
      "7/7 [==============================] - 1s 202ms/step - loss: 0.0032 - val_loss: 0.0016\n",
      "Epoch 42/100\n",
      "7/7 [==============================] - 1s 213ms/step - loss: 0.0029 - val_loss: 0.0015\n",
      "Epoch 43/100\n",
      "7/7 [==============================] - 1s 202ms/step - loss: 0.0028 - val_loss: 0.0018\n",
      "Epoch 44/100\n",
      "7/7 [==============================] - 1s 205ms/step - loss: 0.0027 - val_loss: 0.0014\n",
      "Epoch 45/100\n",
      "7/7 [==============================] - 1s 199ms/step - loss: 0.0026 - val_loss: 0.0014\n",
      "Epoch 46/100\n",
      "7/7 [==============================] - 1s 210ms/step - loss: 0.0025 - val_loss: 0.0021\n",
      "Epoch 47/100\n",
      "7/7 [==============================] - 1s 203ms/step - loss: 0.0027 - val_loss: 0.0019\n",
      "Epoch 48/100\n",
      "7/7 [==============================] - 1s 208ms/step - loss: 0.0028 - val_loss: 0.0014\n",
      "Epoch 49/100\n",
      "7/7 [==============================] - 1s 191ms/step - loss: 0.0030 - val_loss: 0.0013\n",
      "Epoch 50/100\n",
      "7/7 [==============================] - 1s 198ms/step - loss: 0.0026 - val_loss: 0.0014\n",
      "Epoch 51/100\n",
      "7/7 [==============================] - 1s 190ms/step - loss: 0.0023 - val_loss: 0.0016\n",
      "Epoch 52/100\n",
      "7/7 [==============================] - 1s 212ms/step - loss: 0.0025 - val_loss: 0.0013\n",
      "Epoch 53/100\n",
      "7/7 [==============================] - 1s 209ms/step - loss: 0.0022 - val_loss: 0.0012\n",
      "Epoch 54/100\n",
      "7/7 [==============================] - 1s 201ms/step - loss: 0.0020 - val_loss: 0.0013\n",
      "Epoch 55/100\n",
      "7/7 [==============================] - 1s 204ms/step - loss: 0.0019 - val_loss: 0.0012\n",
      "Epoch 56/100\n",
      "7/7 [==============================] - 1s 196ms/step - loss: 0.0019 - val_loss: 0.0019\n",
      "Epoch 57/100\n",
      "7/7 [==============================] - 1s 199ms/step - loss: 0.0019 - val_loss: 0.0016\n",
      "Epoch 58/100\n",
      "7/7 [==============================] - 1s 192ms/step - loss: 0.0020 - val_loss: 0.0019\n",
      "Epoch 59/100\n",
      "7/7 [==============================] - 1s 203ms/step - loss: 0.0022 - val_loss: 0.0022\n",
      "Epoch 60/100\n",
      "7/7 [==============================] - 2s 222ms/step - loss: 0.0023 - val_loss: 0.0013\n",
      "Epoch 61/100\n",
      "7/7 [==============================] - 1s 201ms/step - loss: 0.0021 - val_loss: 0.0011\n",
      "Epoch 62/100\n",
      "7/7 [==============================] - 2s 258ms/step - loss: 0.0017 - val_loss: 0.0013\n",
      "Epoch 63/100\n",
      "7/7 [==============================] - 2s 235ms/step - loss: 0.0016 - val_loss: 0.0011\n",
      "Epoch 64/100\n",
      "7/7 [==============================] - 2s 231ms/step - loss: 0.0017 - val_loss: 0.0012\n",
      "Epoch 65/100\n",
      "7/7 [==============================] - 2s 234ms/step - loss: 0.0017 - val_loss: 0.0016\n",
      "Epoch 66/100\n",
      "7/7 [==============================] - 2s 239ms/step - loss: 0.0015 - val_loss: 0.0014\n",
      "Epoch 67/100\n",
      "7/7 [==============================] - 1s 191ms/step - loss: 0.0015 - val_loss: 0.0011\n",
      "Epoch 68/100\n",
      "7/7 [==============================] - 2s 230ms/step - loss: 0.0014 - val_loss: 0.0010\n",
      "Epoch 69/100\n",
      "7/7 [==============================] - 2s 220ms/step - loss: 0.0014 - val_loss: 0.0010\n",
      "Epoch 70/100\n",
      "7/7 [==============================] - 2s 242ms/step - loss: 0.0014 - val_loss: 0.0010\n",
      "Epoch 71/100\n",
      "7/7 [==============================] - 2s 260ms/step - loss: 0.0014 - val_loss: 0.0010\n",
      "Epoch 72/100\n",
      "7/7 [==============================] - 2s 240ms/step - loss: 0.0014 - val_loss: 0.0016\n",
      "Epoch 73/100\n",
      "7/7 [==============================] - 1s 211ms/step - loss: 0.0016 - val_loss: 0.0012\n",
      "Epoch 74/100\n",
      "7/7 [==============================] - 1s 221ms/step - loss: 0.0014 - val_loss: 9.3939e-04\n",
      "Epoch 75/100\n",
      "7/7 [==============================] - 2s 225ms/step - loss: 0.0014 - val_loss: 0.0010\n",
      "Epoch 76/100\n",
      "7/7 [==============================] - 2s 221ms/step - loss: 0.0014 - val_loss: 9.2401e-04\n",
      "Epoch 77/100\n",
      "7/7 [==============================] - 2s 246ms/step - loss: 0.0013 - val_loss: 9.5849e-04\n",
      "Epoch 78/100\n",
      "7/7 [==============================] - 2s 249ms/step - loss: 0.0012 - val_loss: 0.0012\n",
      "Epoch 79/100\n",
      "7/7 [==============================] - 2s 274ms/step - loss: 0.0013 - val_loss: 0.0012\n",
      "Epoch 80/100\n",
      "7/7 [==============================] - 2s 344ms/step - loss: 0.0013 - val_loss: 0.0013\n",
      "Epoch 81/100\n",
      "7/7 [==============================] - 2s 239ms/step - loss: 0.0013 - val_loss: 0.0010\n",
      "Epoch 82/100\n",
      "7/7 [==============================] - 1s 218ms/step - loss: 0.0012 - val_loss: 9.1510e-04\n",
      "Epoch 83/100\n",
      "7/7 [==============================] - 1s 200ms/step - loss: 0.0012 - val_loss: 8.3051e-04\n",
      "Epoch 84/100\n",
      "7/7 [==============================] - 1s 203ms/step - loss: 0.0012 - val_loss: 8.1331e-04\n",
      "Epoch 85/100\n",
      "7/7 [==============================] - 1s 176ms/step - loss: 0.0012 - val_loss: 7.9092e-04\n",
      "Epoch 86/100\n",
      "7/7 [==============================] - 2s 239ms/step - loss: 0.0011 - val_loss: 9.9523e-04\n",
      "Epoch 87/100\n",
      "7/7 [==============================] - 2s 228ms/step - loss: 0.0013 - val_loss: 0.0011\n",
      "Epoch 88/100\n",
      "7/7 [==============================] - 2s 240ms/step - loss: 0.0012 - val_loss: 9.0382e-04\n",
      "Epoch 89/100\n",
      "7/7 [==============================] - 1s 220ms/step - loss: 0.0012 - val_loss: 7.8238e-04\n",
      "Epoch 90/100\n",
      "7/7 [==============================] - 2s 295ms/step - loss: 0.0011 - val_loss: 7.3286e-04\n",
      "Epoch 91/100\n",
      "7/7 [==============================] - 1s 222ms/step - loss: 0.0011 - val_loss: 8.0589e-04\n",
      "Epoch 92/100\n",
      "7/7 [==============================] - 1s 209ms/step - loss: 0.0011 - val_loss: 0.0013\n",
      "Epoch 93/100\n",
      "7/7 [==============================] - 2s 221ms/step - loss: 0.0013 - val_loss: 8.9090e-04\n",
      "Epoch 94/100\n",
      "7/7 [==============================] - 1s 194ms/step - loss: 0.0011 - val_loss: 8.5602e-04\n",
      "Epoch 95/100\n",
      "7/7 [==============================] - 2s 256ms/step - loss: 0.0010 - val_loss: 0.0011\n",
      "Epoch 96/100\n",
      "7/7 [==============================] - 2s 228ms/step - loss: 0.0010 - val_loss: 7.6913e-04\n",
      "Epoch 97/100\n",
      "7/7 [==============================] - 1s 196ms/step - loss: 9.5696e-04 - val_loss: 6.7687e-04\n",
      "Epoch 98/100\n",
      "7/7 [==============================] - 1s 211ms/step - loss: 9.3800e-04 - val_loss: 6.6076e-04\n",
      "Epoch 99/100\n",
      "7/7 [==============================] - 1s 192ms/step - loss: 9.2693e-04 - val_loss: 6.5418e-04\n",
      "Epoch 100/100\n",
      "7/7 [==============================] - 1s 191ms/step - loss: 9.0824e-04 - val_loss: 6.6890e-04\n"
     ]
    },
    {
     "data": {
      "text/plain": [
       "<keras.callbacks.History at 0x26a12a7f160>"
      ]
     },
     "execution_count": 27,
     "metadata": {},
     "output_type": "execute_result"
    }
   ],
   "source": [
    "model.fit(X_train, Y_train, validation_data=(X_test,Y_test), epochs=100, batch_size=64, verbose=1)"
   ]
  },
  {
   "cell_type": "code",
   "execution_count": 28,
   "id": "62dabcc0",
   "metadata": {
    "id": "62dabcc0"
   },
   "outputs": [
    {
     "name": "stdout",
     "output_type": "stream",
     "text": [
      "14/14 [==============================] - 1s 29ms/step\n",
      "6/6 [==============================] - 0s 26ms/step\n"
     ]
    }
   ],
   "source": [
    "### Lets Do the prediction and check performance metrics\n",
    "\n",
    "train_predict = model.predict(X_train)\n",
    "test_predict = model.predict(X_test)"
   ]
  },
  {
   "cell_type": "code",
   "execution_count": 29,
   "id": "b9fccd41",
   "metadata": {
    "id": "b9fccd41"
   },
   "outputs": [],
   "source": [
    "##Transformback to original form\n",
    "\n",
    "train_predict = scaler.inverse_transform(train_predict) \n",
    "test_predict = scaler.inverse_transform(test_predict)"
   ]
  },
  {
   "cell_type": "code",
   "execution_count": 30,
   "id": "be5b24de",
   "metadata": {
    "id": "be5b24de"
   },
   "outputs": [
    {
     "data": {
      "image/png": "[encoded data removed]",
      "text/plain": [
       "<Figure size 640x480 with 1 Axes>"
      ]
     },
     "metadata": {},
     "output_type": "display_data"
    }
   ],
   "source": [
    "### Plotting \n",
    "# shift train predictions for plotting\n",
    "\n",
    "look_back = 100\n",
    "\n",
    "trainPredictPlot = numpy.empty_like(df3)\n",
    "trainPredictPlot[:, :] = np.nan\n",
    "trainPredictPlot[look_back:len(train_predict)+look_back, :] = train_predict\n",
    "\n",
    "# shift test predictions for plotting\n",
    "testPredictPlot = numpy.empty_like(df3)\n",
    "testPredictPlot[:, :] = numpy.nan\n",
    "testPredictPlot[len(train_predict)+(look_back*2)+1:len(df3)-1, :] = test_predict\n",
    "\n",
    "# plot baseline and predictions\n",
    "plt.plot(scaler.inverse_transform(df3))\n",
    "plt.plot(trainPredictPlot)\n",
    "plt.plot(testPredictPlot)\n",
    "plt.show()"
   ]
  },
  {
   "cell_type": "code",
   "execution_count": 31,
   "id": "7b036aac",
   "metadata": {
    "id": "7b036aac"
   },
   "outputs": [
    {
     "data": {
      "text/html": [
       "<div>\n",
       "<style scoped>\n",
       "    .dataframe tbody tr th:only-of-type {\n",
       "        vertical-align: middle;\n",
       "    }\n",
       "\n",
       "    .dataframe tbody tr th {\n",
       "        vertical-align: top;\n",
       "    }\n",
       "\n",
       "    .dataframe thead th {\n",
       "        text-align: right;\n",
       "    }\n",
       "</style>\n",
       "<table border=\"1\" class=\"dataframe\">\n",
       "  <thead>\n",
       "    <tr style=\"text-align: right;\">\n",
       "      <th></th>\n",
       "      <th>Date</th>\n",
       "      <th>Prediction</th>\n",
       "    </tr>\n",
       "  </thead>\n",
       "  <tbody>\n",
       "    <tr>\n",
       "      <th>0</th>\n",
       "      <td>1/1/2019</td>\n",
       "      <td>NaN</td>\n",
       "    </tr>\n",
       "    <tr>\n",
       "      <th>1</th>\n",
       "      <td>1/2/2019</td>\n",
       "      <td>NaN</td>\n",
       "    </tr>\n",
       "    <tr>\n",
       "      <th>2</th>\n",
       "      <td>1/3/2019</td>\n",
       "      <td>NaN</td>\n",
       "    </tr>\n",
       "    <tr>\n",
       "      <th>3</th>\n",
       "      <td>1/4/2019</td>\n",
       "      <td>NaN</td>\n",
       "    </tr>\n",
       "    <tr>\n",
       "      <th>4</th>\n",
       "      <td>1/5/2019</td>\n",
       "      <td>NaN</td>\n",
       "    </tr>\n",
       "  </tbody>\n",
       "</table>\n",
       "</div>"
      ],
      "text/plain": [
       "       Date  Prediction\n",
       "0  1/1/2019         NaN\n",
       "1  1/2/2019         NaN\n",
       "2  1/3/2019         NaN\n",
       "3  1/4/2019         NaN\n",
       "4  1/5/2019         NaN"
      ]
     },
     "execution_count": 31,
     "metadata": {},
     "output_type": "execute_result"
    }
   ],
   "source": [
    "df_test=pd.read_csv(\"test_data.csv\")\n",
    "df_test.head()"
   ]
  },
  {
   "cell_type": "code",
   "execution_count": 32,
   "id": "00d514c6",
   "metadata": {
    "id": "00d514c6"
   },
   "outputs": [
    {
     "name": "stderr",
     "output_type": "stream",
     "text": [
      "WARNING:absl:Found untraced functions such as lstm_cell_layer_call_fn, lstm_cell_layer_call_and_return_conditional_losses, lstm_cell_1_layer_call_fn, lstm_cell_1_layer_call_and_return_conditional_losses, lstm_cell_2_layer_call_fn while saving (showing 5 of 6). These functions will not be directly callable after loading.\n"
     ]
    },
    {
     "name": "stdout",
     "output_type": "stream",
     "text": [
      "INFO:tensorflow:Assets written to: Gasoline Price Prediction\\assets\n"
     ]
    },
    {
     "name": "stderr",
     "output_type": "stream",
     "text": [
      "INFO:tensorflow:Assets written to: Gasoline Price Prediction\\assets\n"
     ]
    }
   ],
   "source": [
    "model.save(\"Gasoline Price Prediction\")"
   ]
  },
  {
   "cell_type": "markdown",
   "id": "hpAqppG-OFe7",
   "metadata": {
    "id": "hpAqppG-OFe7"
   },
   "source": [
    "## **Using ARIMA**"
   ]
  },
  {
   "cell_type": "code",
   "execution_count": 33,
   "id": "RZPU8JPWnZSy",
   "metadata": {
    "id": "RZPU8JPWnZSy"
   },
   "outputs": [
    {
     "name": "stdout",
     "output_type": "stream",
     "text": [
      "Defaulting to user installation because normal site-packages is not writeable\n",
      "Requirement already satisfied: patsy in c:\\programdata\\anaconda3\\lib\\site-packages (0.5.3)\n",
      "Requirement already satisfied: six in c:\\programdata\\anaconda3\\lib\\site-packages (from patsy) (1.16.0)\n",
      "Requirement already satisfied: numpy>=1.4 in c:\\programdata\\anaconda3\\lib\\site-packages (from patsy) (1.23.5)\n"
     ]
    }
   ],
   "source": [
    "!pip install --upgrade patsy"
   ]
  },
  {
   "cell_type": "code",
   "execution_count": 34,
   "id": "gD6Y2IDNl0os",
   "metadata": {
    "id": "gD6Y2IDNl0os"
   },
   "outputs": [
    {
     "name": "stdout",
     "output_type": "stream",
     "text": [
      "Defaulting to user installation because normal site-packages is not writeable\n",
      "Requirement already satisfied: statsmodels in c:\\programdata\\anaconda3\\lib\\site-packages (0.13.5)\n",
      "Requirement already satisfied: pandas>=0.25 in c:\\programdata\\anaconda3\\lib\\site-packages (from statsmodels) (1.5.3)\n",
      "Requirement already satisfied: scipy>=1.3 in c:\\users\\prabhjyoth.mattummal\\appdata\\roaming\\python\\python310\\site-packages (from statsmodels) (1.9.3)\n",
      "Requirement already satisfied: packaging>=21.3 in c:\\programdata\\anaconda3\\lib\\site-packages (from statsmodels) (22.0)\n",
      "Requirement already satisfied: patsy>=0.5.2 in c:\\programdata\\anaconda3\\lib\\site-packages (from statsmodels) (0.5.3)\n",
      "Requirement already satisfied: numpy>=1.22.3 in c:\\programdata\\anaconda3\\lib\\site-packages (from statsmodels) (1.23.5)\n",
      "Requirement already satisfied: pytz>=2020.1 in c:\\programdata\\anaconda3\\lib\\site-packages (from pandas>=0.25->statsmodels) (2022.7)\n",
      "Requirement already satisfied: python-dateutil>=2.8.1 in c:\\programdata\\anaconda3\\lib\\site-packages (from pandas>=0.25->statsmodels) (2.8.2)\n",
      "Requirement already satisfied: six in c:\\programdata\\anaconda3\\lib\\site-packages (from patsy>=0.5.2->statsmodels) (1.16.0)\n"
     ]
    }
   ],
   "source": [
    "!pip install statsmodels"
   ]
  },
  {
   "cell_type": "code",
   "execution_count": 35,
   "id": "Y5dPBU9Enk85",
   "metadata": {
    "id": "Y5dPBU9Enk85"
   },
   "outputs": [
    {
     "name": "stdout",
     "output_type": "stream",
     "text": [
      "Defaulting to user installation because normal site-packages is not writeable\n",
      "Requirement already satisfied: statsmodels in c:\\programdata\\anaconda3\\lib\\site-packages (0.13.5)\n"
     ]
    }
   ],
   "source": [
    "!pip install --upgrade --no-deps statsmodels"
   ]
  },
  {
   "cell_type": "code",
   "execution_count": 36,
   "id": "ajeghoPZDx7C",
   "metadata": {
    "id": "ajeghoPZDx7C"
   },
   "outputs": [
    {
     "name": "stderr",
     "output_type": "stream",
     "text": [
      "C:\\Users\\prabhjyoth.mattummal\\AppData\\Local\\Temp\\ipykernel_2300\\3328119907.py:5: FutureWarning: The pandas.datetime class is deprecated and will be removed from pandas in a future version. Import from datetime module instead.\n",
      "  from pandas import datetime\n"
     ]
    }
   ],
   "source": [
    "import pandas as pd\n",
    "from statsmodels.tsa.arima.model import ARIMA\n",
    "from matplotlib import pyplot as plt\n",
    "from pandas import read_csv\n",
    "from pandas import datetime \n",
    "from matplotlib import pyplot\n",
    "from sklearn.metrics import mean_squared_error\n",
    "from math import sqrt"
   ]
  },
  {
   "attachments": {},
   "cell_type": "markdown",
   "id": "1de614b7",
   "metadata": {},
   "source": [
    "Recalling the df3 dataframe"
   ]
  },
  {
   "cell_type": "code",
   "execution_count": 39,
   "id": "rgmu2cLaqDCE",
   "metadata": {
    "id": "rgmu2cLaqDCE"
   },
   "outputs": [
    {
     "name": "stderr",
     "output_type": "stream",
     "text": [
      "C:\\Users\\prabhjyoth.mattummal\\AppData\\Local\\Temp\\ipykernel_2300\\2020278093.py:3: SettingWithCopyWarning: \n",
      "A value is trying to be set on a copy of a slice from a DataFrame\n",
      "\n",
      "See the caveats in the documentation: https://pandas.pydata.org/pandas-docs/stable/user_guide/indexing.html#returning-a-view-versus-a-copy\n",
      "  df.rename(columns={\"Petrol (USD)\": \"Gasoline\"}, inplace = True)\n"
     ]
    },
    {
     "data": {
      "text/plain": [
       "0    74.59\n",
       "1    74.47\n",
       "2    74.42\n",
       "3    74.35\n",
       "4    74.28\n",
       "Name: Gasoline, dtype: float64"
      ]
     },
     "execution_count": 39,
     "metadata": {},
     "output_type": "execute_result"
    }
   ],
   "source": [
    "data = pd.read_csv(\"C:/Programming Practice Notebooks/PROJECTS/Gasoline Prices Time Series Analysis/train_data.csv\")\n",
    "df = data.dropna()\n",
    "df.rename(columns={\"Petrol (USD)\": \"Gasoline\"}, inplace = True)\n",
    "df2 = df[df.Gasoline<160]\n",
    "df3 = df2.reset_index()['Gasoline']\n",
    "df3.head()"
   ]
  },
  {
   "cell_type": "code",
   "execution_count": 40,
   "id": "vks4TdPaD6OS",
   "metadata": {
    "id": "vks4TdPaD6OS"
   },
   "outputs": [
    {
     "data": {
      "text/plain": [
       "array([119.80670598, 119.52143353, 119.30634699, 119.14818607,\n",
       "       119.02925496, 118.93899221, 118.8707173 , 118.81917637,\n",
       "       118.78030458, 118.75097731, 118.72884034, 118.71213024,\n",
       "       118.69951771, 118.68999847, 118.68281387, 118.67739125,\n",
       "       118.67329846, 118.67020939, 118.66787788, 118.66611816,\n",
       "       118.66478999, 118.66378755, 118.66303095, 118.66245989,\n",
       "       118.66202889, 118.66170358, 118.66145805, 118.66127274,\n",
       "       118.66113287, 118.6610273 ])"
      ]
     },
     "execution_count": 40,
     "metadata": {},
     "output_type": "execute_result"
    }
   ],
   "source": [
    "model1 = ARIMA(df3.values, order=(5,1,0))\n",
    "model_fit1 = model1.fit()\n",
    "\n",
    "# predicting the next 30 values\n",
    "\n",
    "output1 = model_fit1.forecast(steps=30)\n",
    "output1"
   ]
  },
  {
   "cell_type": "markdown",
   "id": "iVKwRTmDnxwd",
   "metadata": {
    "id": "iVKwRTmDnxwd"
   },
   "source": [
    "# Using Auto ML"
   ]
  },
  {
   "cell_type": "markdown",
   "id": "uNVmRVGun23V",
   "metadata": {
    "id": "uNVmRVGun23V"
   },
   "source": [
    " ![download.png](data:image/png;base64,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)"
   ]
  },
  {
   "cell_type": "markdown",
   "id": "5nEy2U0hoGEZ",
   "metadata": {
    "id": "5nEy2U0hoGEZ"
   },
   "source": [
    "## AutoKeras: An AutoML system based on Keras. It is developed by DATA Lab at Texas A&M University"
   ]
  },
  {
   "cell_type": "markdown",
   "id": "lThRUPGnoIZZ",
   "metadata": {
    "id": "lThRUPGnoIZZ"
   },
   "source": [
    "## Installing Auto Keras"
   ]
  },
  {
   "cell_type": "code",
   "execution_count": 41,
   "id": "dfe88bcc",
   "metadata": {
    "id": "dfe88bcc"
   },
   "outputs": [
    {
     "name": "stdout",
     "output_type": "stream",
     "text": [
      "Defaulting to user installation because normal site-packages is not writeable\n",
      "Collecting git+https://github.com/keras-team/keras-tuner.git@1.0.2rc1\n",
      "  Cloning https://github.com/keras-team/keras-tuner.git (to revision 1.0.2rc1) to c:\\users\\prabhjyoth.mattummal\\appdata\\local\\temp\\pip-req-build-bihd45tq\n",
      "  Resolved https://github.com/keras-team/keras-tuner.git to commit 0fb69434a132093518e0e53d40020145ae192629\n",
      "  Preparing metadata (setup.py): started\n",
      "  Preparing metadata (setup.py): finished with status 'done'\n",
      "Requirement already satisfied: packaging in c:\\programdata\\anaconda3\\lib\\site-packages (from keras-tuner==1.0.2rc1) (22.0)\n",
      "Requirement already satisfied: future in c:\\programdata\\anaconda3\\lib\\site-packages (from keras-tuner==1.0.2rc1) (0.18.3)\n",
      "Requirement already satisfied: numpy in c:\\programdata\\anaconda3\\lib\\site-packages (from keras-tuner==1.0.2rc1) (1.23.5)\n",
      "Requirement already satisfied: tabulate in c:\\programdata\\anaconda3\\lib\\site-packages (from keras-tuner==1.0.2rc1) (0.8.10)\n",
      "Collecting terminaltables\n",
      "  Downloading terminaltables-3.1.10-py2.py3-none-any.whl (15 kB)\n",
      "Requirement already satisfied: colorama in c:\\programdata\\anaconda3\\lib\\site-packages (from keras-tuner==1.0.2rc1) (0.4.6)\n",
      "Requirement already satisfied: tqdm in c:\\programdata\\anaconda3\\lib\\site-packages (from keras-tuner==1.0.2rc1) (4.64.1)\n",
      "Requirement already satisfied: requests in c:\\programdata\\anaconda3\\lib\\site-packages (from keras-tuner==1.0.2rc1) (2.28.1)\n",
      "Requirement already satisfied: scipy in c:\\users\\prabhjyoth.mattummal\\appdata\\roaming\\python\\python310\\site-packages (from keras-tuner==1.0.2rc1) (1.9.3)\n",
      "Requirement already satisfied: scikit-learn in c:\\users\\prabhjyoth.mattummal\\appdata\\roaming\\python\\python310\\site-packages (from keras-tuner==1.0.2rc1) (1.2.2)\n",
      "Requirement already satisfied: idna<4,>=2.5 in c:\\programdata\\anaconda3\\lib\\site-packages (from requests->keras-tuner==1.0.2rc1) (3.4)\n",
      "Requirement already satisfied: certifi>=2017.4.17 in c:\\programdata\\anaconda3\\lib\\site-packages (from requests->keras-tuner==1.0.2rc1) (2022.12.7)\n",
      "Requirement already satisfied: charset-normalizer<3,>=2 in c:\\programdata\\anaconda3\\lib\\site-packages (from requests->keras-tuner==1.0.2rc1) (2.0.4)\n",
      "Requirement already satisfied: urllib3<1.27,>=1.21.1 in c:\\programdata\\anaconda3\\lib\\site-packages (from requests->keras-tuner==1.0.2rc1) (1.26.14)\n",
      "Requirement already satisfied: threadpoolctl>=2.0.0 in c:\\programdata\\anaconda3\\lib\\site-packages (from scikit-learn->keras-tuner==1.0.2rc1) (2.2.0)\n",
      "Requirement already satisfied: joblib>=1.1.1 in c:\\programdata\\anaconda3\\lib\\site-packages (from scikit-learn->keras-tuner==1.0.2rc1) (1.1.1)\n",
      "Building wheels for collected packages: keras-tuner\n",
      "  Building wheel for keras-tuner (setup.py): started\n",
      "  Building wheel for keras-tuner (setup.py): finished with status 'done'\n",
      "  Created wheel for keras-tuner: filename=keras_tuner-1.0.2rc1-py3-none-any.whl size=86083 sha256=dee472e03ca387d080f7a007ca3a2383936ae137af7a551bdbdc0a2d3465542c\n",
      "  Stored in directory: C:\\Users\\prabhjyoth.mattummal\\AppData\\Local\\Temp\\pip-ephem-wheel-cache-bir78u3_\\wheels\\b8\\e6\\44\\4b6aa4a149abdabe9752582dbd7d7ae0848e87fe71cd2c59ed\n",
      "Successfully built keras-tuner\n",
      "Installing collected packages: terminaltables, keras-tuner\n",
      "Successfully installed keras-tuner-1.0.2rc1 terminaltables-3.1.10\n"
     ]
    },
    {
     "name": "stderr",
     "output_type": "stream",
     "text": [
      "  Running command git clone --filter=blob:none --quiet https://github.com/keras-team/keras-tuner.git 'C:\\Users\\prabhjyoth.mattummal\\AppData\\Local\\Temp\\pip-req-build-bihd45tq'\n",
      "  Running command git checkout -q 0fb69434a132093518e0e53d40020145ae192629\n"
     ]
    }
   ],
   "source": [
    "!pip install git+https://github.com/keras-team/keras-tuner.git@1.0.2rc1\n"
   ]
  },
  {
   "cell_type": "code",
   "execution_count": 42,
   "id": "b1ea1595",
   "metadata": {
    "id": "b1ea1595"
   },
   "outputs": [
    {
     "name": "stdout",
     "output_type": "stream",
     "text": [
      "Defaulting to user installation because normal site-packages is not writeable\n",
      "Collecting autokeras\n",
      "  Downloading autokeras-1.1.0-py3-none-any.whl (148 kB)\n",
      "     -------------------------------------- 148.6/148.6 kB 2.2 MB/s eta 0:00:00\n",
      "Requirement already satisfied: tensorflow>=2.8.0 in c:\\users\\prabhjyoth.mattummal\\appdata\\roaming\\python\\python310\\site-packages (from autokeras) (2.10.1)\n",
      "Requirement already satisfied: pandas in c:\\programdata\\anaconda3\\lib\\site-packages (from autokeras) (1.5.3)\n",
      "Collecting keras-nlp>=0.4.0\n",
      "  Downloading keras_nlp-0.4.1-py3-none-any.whl (466 kB)\n",
      "     -------------------------------------- 466.8/466.8 kB 1.0 MB/s eta 0:00:00\n",
      "Collecting keras-tuner>=1.1.0\n",
      "  Downloading keras_tuner-1.3.5-py3-none-any.whl (176 kB)\n",
      "     -------------------------------------- 176.1/176.1 kB 2.1 MB/s eta 0:00:00\n",
      "Requirement already satisfied: packaging in c:\\programdata\\anaconda3\\lib\\site-packages (from autokeras) (22.0)\n",
      "Collecting tensorflow-text\n",
      "  Downloading tensorflow_text-2.10.0-cp310-cp310-win_amd64.whl (5.0 MB)\n",
      "     ---------------------------------------- 5.0/5.0 MB 1.8 MB/s eta 0:00:00\n",
      "Requirement already satisfied: numpy in c:\\programdata\\anaconda3\\lib\\site-packages (from keras-nlp>=0.4.0->autokeras) (1.23.5)\n",
      "Requirement already satisfied: absl-py in c:\\users\\prabhjyoth.mattummal\\appdata\\roaming\\python\\python310\\site-packages (from keras-nlp>=0.4.0->autokeras) (1.4.0)\n",
      "Collecting kt-legacy\n",
      "  Downloading kt_legacy-1.0.5-py3-none-any.whl (9.6 kB)\n",
      "Requirement already satisfied: requests in c:\\programdata\\anaconda3\\lib\\site-packages (from keras-tuner>=1.1.0->autokeras) (2.28.1)\n",
      "Requirement already satisfied: setuptools in c:\\users\\prabhjyoth.mattummal\\appdata\\roaming\\python\\python310\\site-packages (from tensorflow>=2.8.0->autokeras) (60.10.0)\n",
      "Requirement already satisfied: keras<2.11,>=2.10.0 in c:\\users\\prabhjyoth.mattummal\\appdata\\roaming\\python\\python310\\site-packages (from tensorflow>=2.8.0->autokeras) (2.10.0)\n",
      "Requirement already satisfied: flatbuffers>=2.0 in c:\\users\\prabhjyoth.mattummal\\appdata\\roaming\\python\\python310\\site-packages (from tensorflow>=2.8.0->autokeras) (23.3.3)\n",
      "Requirement already satisfied: h5py>=2.9.0 in c:\\programdata\\anaconda3\\lib\\site-packages (from tensorflow>=2.8.0->autokeras) (3.7.0)\n",
      "Requirement already satisfied: astunparse>=1.6.0 in c:\\users\\prabhjyoth.mattummal\\appdata\\roaming\\python\\python310\\site-packages (from tensorflow>=2.8.0->autokeras) (1.6.3)\n",
      "Requirement already satisfied: gast<=0.4.0,>=0.2.1 in c:\\users\\prabhjyoth.mattummal\\appdata\\roaming\\python\\python310\\site-packages (from tensorflow>=2.8.0->autokeras) (0.4.0)\n",
      "Requirement already satisfied: google-pasta>=0.1.1 in c:\\users\\prabhjyoth.mattummal\\appdata\\roaming\\python\\python310\\site-packages (from tensorflow>=2.8.0->autokeras) (0.2.0)\n",
      "Requirement already satisfied: tensorflow-io-gcs-filesystem>=0.23.1 in c:\\users\\prabhjyoth.mattummal\\appdata\\roaming\\python\\python310\\site-packages (from tensorflow>=2.8.0->autokeras) (0.31.0)\n",
      "Requirement already satisfied: grpcio<2.0,>=1.24.3 in c:\\users\\prabhjyoth.mattummal\\appdata\\roaming\\python\\python310\\site-packages (from tensorflow>=2.8.0->autokeras) (1.53.0)\n",
      "Requirement already satisfied: tensorboard<2.11,>=2.10 in c:\\users\\prabhjyoth.mattummal\\appdata\\roaming\\python\\python310\\site-packages (from tensorflow>=2.8.0->autokeras) (2.10.1)\n",
      "Requirement already satisfied: tensorflow-estimator<2.11,>=2.10.0 in c:\\users\\prabhjyoth.mattummal\\appdata\\roaming\\python\\python310\\site-packages (from tensorflow>=2.8.0->autokeras) (2.10.0)\n",
      "Requirement already satisfied: libclang>=13.0.0 in c:\\users\\prabhjyoth.mattummal\\appdata\\roaming\\python\\python310\\site-packages (from tensorflow>=2.8.0->autokeras) (16.0.0)\n",
      "Requirement already satisfied: termcolor>=1.1.0 in c:\\users\\prabhjyoth.mattummal\\appdata\\roaming\\python\\python310\\site-packages (from tensorflow>=2.8.0->autokeras) (2.2.0)\n",
      "Requirement already satisfied: opt-einsum>=2.3.2 in c:\\users\\prabhjyoth.mattummal\\appdata\\roaming\\python\\python310\\site-packages (from tensorflow>=2.8.0->autokeras) (3.3.0)\n",
      "Requirement already satisfied: keras-preprocessing>=1.1.1 in c:\\users\\prabhjyoth.mattummal\\appdata\\roaming\\python\\python310\\site-packages (from tensorflow>=2.8.0->autokeras) (1.1.2)\n",
      "Requirement already satisfied: wrapt>=1.11.0 in c:\\programdata\\anaconda3\\lib\\site-packages (from tensorflow>=2.8.0->autokeras) (1.14.1)\n",
      "Requirement already satisfied: six>=1.12.0 in c:\\programdata\\anaconda3\\lib\\site-packages (from tensorflow>=2.8.0->autokeras) (1.16.0)\n",
      "Requirement already satisfied: typing-extensions>=3.6.6 in c:\\programdata\\anaconda3\\lib\\site-packages (from tensorflow>=2.8.0->autokeras) (4.4.0)\n",
      "Requirement already satisfied: protobuf<3.20,>=3.9.2 in c:\\users\\prabhjyoth.mattummal\\appdata\\roaming\\python\\python310\\site-packages (from tensorflow>=2.8.0->autokeras) (3.19.6)\n",
      "Requirement already satisfied: python-dateutil>=2.8.1 in c:\\programdata\\anaconda3\\lib\\site-packages (from pandas->autokeras) (2.8.2)\n",
      "Requirement already satisfied: pytz>=2020.1 in c:\\programdata\\anaconda3\\lib\\site-packages (from pandas->autokeras) (2022.7)\n",
      "Requirement already satisfied: wheel<1.0,>=0.23.0 in c:\\programdata\\anaconda3\\lib\\site-packages (from astunparse>=1.6.0->tensorflow>=2.8.0->autokeras) (0.38.4)\n",
      "Requirement already satisfied: markdown>=2.6.8 in c:\\programdata\\anaconda3\\lib\\site-packages (from tensorboard<2.11,>=2.10->tensorflow>=2.8.0->autokeras) (3.4.1)\n",
      "Requirement already satisfied: google-auth<3,>=1.6.3 in c:\\users\\prabhjyoth.mattummal\\appdata\\roaming\\python\\python310\\site-packages (from tensorboard<2.11,>=2.10->tensorflow>=2.8.0->autokeras) (2.17.2)\n",
      "Requirement already satisfied: tensorboard-data-server<0.7.0,>=0.6.0 in c:\\users\\prabhjyoth.mattummal\\appdata\\roaming\\python\\python310\\site-packages (from tensorboard<2.11,>=2.10->tensorflow>=2.8.0->autokeras) (0.6.1)\n",
      "Requirement already satisfied: tensorboard-plugin-wit>=1.6.0 in c:\\users\\prabhjyoth.mattummal\\appdata\\roaming\\python\\python310\\site-packages (from tensorboard<2.11,>=2.10->tensorflow>=2.8.0->autokeras) (1.8.1)\n",
      "Requirement already satisfied: werkzeug>=1.0.1 in c:\\programdata\\anaconda3\\lib\\site-packages (from tensorboard<2.11,>=2.10->tensorflow>=2.8.0->autokeras) (2.2.2)\n",
      "Requirement already satisfied: google-auth-oauthlib<0.5,>=0.4.1 in c:\\users\\prabhjyoth.mattummal\\appdata\\roaming\\python\\python310\\site-packages (from tensorboard<2.11,>=2.10->tensorflow>=2.8.0->autokeras) (0.4.6)\n",
      "Requirement already satisfied: charset-normalizer<3,>=2 in c:\\programdata\\anaconda3\\lib\\site-packages (from requests->keras-tuner>=1.1.0->autokeras) (2.0.4)\n",
      "Requirement already satisfied: certifi>=2017.4.17 in c:\\programdata\\anaconda3\\lib\\site-packages (from requests->keras-tuner>=1.1.0->autokeras) (2022.12.7)\n",
      "Requirement already satisfied: urllib3<1.27,>=1.21.1 in c:\\programdata\\anaconda3\\lib\\site-packages (from requests->keras-tuner>=1.1.0->autokeras) (1.26.14)\n",
      "Requirement already satisfied: idna<4,>=2.5 in c:\\programdata\\anaconda3\\lib\\site-packages (from requests->keras-tuner>=1.1.0->autokeras) (3.4)\n",
      "Collecting tensorflow-hub>=0.8.0\n",
      "  Downloading tensorflow_hub-0.13.0-py2.py3-none-any.whl (100 kB)\n",
      "     -------------------------------------- 100.6/100.6 kB 1.9 MB/s eta 0:00:00\n",
      "Requirement already satisfied: cachetools<6.0,>=2.0.0 in c:\\users\\prabhjyoth.mattummal\\appdata\\roaming\\python\\python310\\site-packages (from google-auth<3,>=1.6.3->tensorboard<2.11,>=2.10->tensorflow>=2.8.0->autokeras) (5.3.0)\n",
      "Requirement already satisfied: rsa<5,>=3.1.4 in c:\\users\\prabhjyoth.mattummal\\appdata\\roaming\\python\\python310\\site-packages (from google-auth<3,>=1.6.3->tensorboard<2.11,>=2.10->tensorflow>=2.8.0->autokeras) (4.9)\n",
      "Requirement already satisfied: pyasn1-modules>=0.2.1 in c:\\programdata\\anaconda3\\lib\\site-packages (from google-auth<3,>=1.6.3->tensorboard<2.11,>=2.10->tensorflow>=2.8.0->autokeras) (0.2.8)\n",
      "Requirement already satisfied: requests-oauthlib>=0.7.0 in c:\\users\\prabhjyoth.mattummal\\appdata\\roaming\\python\\python310\\site-packages (from google-auth-oauthlib<0.5,>=0.4.1->tensorboard<2.11,>=2.10->tensorflow>=2.8.0->autokeras) (1.3.1)\n",
      "Requirement already satisfied: MarkupSafe>=2.1.1 in c:\\programdata\\anaconda3\\lib\\site-packages (from werkzeug>=1.0.1->tensorboard<2.11,>=2.10->tensorflow>=2.8.0->autokeras) (2.1.1)\n",
      "Requirement already satisfied: pyasn1<0.5.0,>=0.4.6 in c:\\programdata\\anaconda3\\lib\\site-packages (from pyasn1-modules>=0.2.1->google-auth<3,>=1.6.3->tensorboard<2.11,>=2.10->tensorflow>=2.8.0->autokeras) (0.4.8)\n",
      "Requirement already satisfied: oauthlib>=3.0.0 in c:\\users\\prabhjyoth.mattummal\\appdata\\roaming\\python\\python310\\site-packages (from requests-oauthlib>=0.7.0->google-auth-oauthlib<0.5,>=0.4.1->tensorboard<2.11,>=2.10->tensorflow>=2.8.0->autokeras) (3.2.2)\n",
      "Installing collected packages: kt-legacy, tensorflow-hub, keras-tuner, tensorflow-text, keras-nlp, autokeras\n",
      "  Attempting uninstall: keras-tuner\n",
      "    Found existing installation: keras-tuner 1.0.2rc1\n",
      "    Uninstalling keras-tuner-1.0.2rc1:\n",
      "      Successfully uninstalled keras-tuner-1.0.2rc1\n",
      "Successfully installed autokeras-1.1.0 keras-nlp-0.4.1 keras-tuner-1.3.5 kt-legacy-1.0.5 tensorflow-hub-0.13.0 tensorflow-text-2.10.0\n"
     ]
    },
    {
     "name": "stderr",
     "output_type": "stream",
     "text": [
      "  WARNING: The scripts make_image_classifier.exe and make_nearest_neighbour_index.exe are installed in 'C:\\Users\\prabhjyoth.mattummal\\AppData\\Roaming\\Python\\Python310\\Scripts' which is not on PATH.\n",
      "  Consider adding this directory to PATH or, if you prefer to suppress this warning, use --no-warn-script-location.\n"
     ]
    }
   ],
   "source": [
    "!pip install autokeras"
   ]
  },
  {
   "cell_type": "code",
   "execution_count": 43,
   "id": "3A0tyai90XP4",
   "metadata": {
    "id": "3A0tyai90XP4"
   },
   "outputs": [
    {
     "name": "stdout",
     "output_type": "stream",
     "text": [
      "Name: autokeras\n",
      "Version: 1.1.0\n",
      "Summary: AutoML for deep learning\n",
      "Home-page: http://autokeras.com\n",
      "Author: DATA Lab, Keras Team\n",
      "Author-email: jhfjhfj1@gmail.com\n",
      "License: Apache License 2.0\n",
      "Location: c:\\users\\prabhjyoth.mattummal\\appdata\\roaming\\python\\python310\\site-packages\n",
      "Requires: keras-nlp, keras-tuner, packaging, pandas, tensorflow\n",
      "Required-by: \n"
     ]
    }
   ],
   "source": [
    "!pip show autokeras"
   ]
  },
  {
   "cell_type": "code",
   "execution_count": 45,
   "id": "jE_IvaIs1O3z",
   "metadata": {
    "id": "jE_IvaIs1O3z"
   },
   "outputs": [],
   "source": [
    "import numpy as np\n",
    "import pandas as pd\n",
    "import tensorflow as tf\n",
    "\n",
    "import autokeras as ak"
   ]
  },
  {
   "cell_type": "code",
   "execution_count": 46,
   "id": "OdAi99490vlO",
   "metadata": {
    "id": "OdAi99490vlO"
   },
   "outputs": [],
   "source": [
    "reg = ak.StructuredDataRegressor(\n",
    "    overwrite=True, max_trials=3\n",
    ")"
   ]
  },
  {
   "cell_type": "code",
   "execution_count": 54,
   "id": "yaD54ZIB05_N",
   "metadata": {
    "id": "yaD54ZIB05_N"
   },
   "outputs": [
    {
     "ename": "ValueError",
     "evalue": "Expect the data to StructuredDataInput to have shape (batch_size, num_features), but got input shape [32, 100, 1].",
     "output_type": "error",
     "traceback": [
      "\u001b[1;31m---------------------------------------------------------------------------\u001b[0m",
      "\u001b[1;31mValueError\u001b[0m                                Traceback (most recent call last)",
      "Cell \u001b[1;32mIn[54], line 1\u001b[0m\n\u001b[1;32m----> 1\u001b[0m reg\u001b[39m.\u001b[39;49mfit(x\u001b[39m=\u001b[39;49mX_train, y\u001b[39m=\u001b[39;49mY_train, verbose\u001b[39m=\u001b[39;49m\u001b[39m0\u001b[39;49m)\n",
      "File \u001b[1;32m~\\AppData\\Roaming\\Python\\Python310\\site-packages\\autokeras\\tasks\\structured_data.py:139\u001b[0m, in \u001b[0;36mBaseStructuredDataPipeline.fit\u001b[1;34m(self, x, y, epochs, callbacks, validation_split, validation_data, **kwargs)\u001b[0m\n\u001b[0;32m    135\u001b[0m         validation_data \u001b[39m=\u001b[39m \u001b[39mself\u001b[39m\u001b[39m.\u001b[39m_read_from_csv(x_val, y_val)\n\u001b[0;32m    137\u001b[0m \u001b[39mself\u001b[39m\u001b[39m.\u001b[39mcheck_in_fit(x)\n\u001b[1;32m--> 139\u001b[0m history \u001b[39m=\u001b[39m \u001b[39msuper\u001b[39m()\u001b[39m.\u001b[39mfit(\n\u001b[0;32m    140\u001b[0m     x\u001b[39m=\u001b[39mx,\n\u001b[0;32m    141\u001b[0m     y\u001b[39m=\u001b[39my,\n\u001b[0;32m    142\u001b[0m     epochs\u001b[39m=\u001b[39mepochs,\n\u001b[0;32m    143\u001b[0m     callbacks\u001b[39m=\u001b[39mcallbacks,\n\u001b[0;32m    144\u001b[0m     validation_split\u001b[39m=\u001b[39mvalidation_split,\n\u001b[0;32m    145\u001b[0m     validation_data\u001b[39m=\u001b[39mvalidation_data,\n\u001b[0;32m    146\u001b[0m     \u001b[39m*\u001b[39m\u001b[39m*\u001b[39mkwargs\n\u001b[0;32m    147\u001b[0m )\n\u001b[0;32m    148\u001b[0m \u001b[39mreturn\u001b[39;00m history\n",
      "File \u001b[1;32m~\\AppData\\Roaming\\Python\\Python310\\site-packages\\autokeras\\auto_model.py:283\u001b[0m, in \u001b[0;36mAutoModel.fit\u001b[1;34m(self, x, y, batch_size, epochs, callbacks, validation_split, validation_data, verbose, **kwargs)\u001b[0m\n\u001b[0;32m    278\u001b[0m     validation_split \u001b[39m=\u001b[39m \u001b[39m0\u001b[39m\n\u001b[0;32m    280\u001b[0m dataset, validation_data \u001b[39m=\u001b[39m \u001b[39mself\u001b[39m\u001b[39m.\u001b[39m_convert_to_dataset(\n\u001b[0;32m    281\u001b[0m     x\u001b[39m=\u001b[39mx, y\u001b[39m=\u001b[39my, validation_data\u001b[39m=\u001b[39mvalidation_data, batch_size\u001b[39m=\u001b[39mbatch_size\n\u001b[0;32m    282\u001b[0m )\n\u001b[1;32m--> 283\u001b[0m \u001b[39mself\u001b[39;49m\u001b[39m.\u001b[39;49m_analyze_data(dataset)\n\u001b[0;32m    284\u001b[0m \u001b[39mself\u001b[39m\u001b[39m.\u001b[39m_build_hyper_pipeline(dataset)\n\u001b[0;32m    286\u001b[0m \u001b[39m# Split the data with validation_split.\u001b[39;00m\n",
      "File \u001b[1;32m~\\AppData\\Roaming\\Python\\Python310\\site-packages\\autokeras\\auto_model.py:376\u001b[0m, in \u001b[0;36mAutoModel._analyze_data\u001b[1;34m(self, dataset)\u001b[0m\n\u001b[0;32m    373\u001b[0m         analyser\u001b[39m.\u001b[39mupdate(item)\n\u001b[0;32m    375\u001b[0m \u001b[39mfor\u001b[39;00m analyser \u001b[39min\u001b[39;00m analysers:\n\u001b[1;32m--> 376\u001b[0m     analyser\u001b[39m.\u001b[39;49mfinalize()\n\u001b[0;32m    378\u001b[0m \u001b[39mfor\u001b[39;00m hm, analyser \u001b[39min\u001b[39;00m \u001b[39mzip\u001b[39m(\u001b[39mself\u001b[39m\u001b[39m.\u001b[39minputs \u001b[39m+\u001b[39m \u001b[39mself\u001b[39m\u001b[39m.\u001b[39m_heads, analysers):\n\u001b[0;32m    379\u001b[0m     hm\u001b[39m.\u001b[39mconfig_from_analyser(analyser)\n",
      "File \u001b[1;32m~\\AppData\\Roaming\\Python\\Python310\\site-packages\\autokeras\\analysers\\input_analysers.py:103\u001b[0m, in \u001b[0;36mStructuredDataAnalyser.finalize\u001b[1;34m(self)\u001b[0m\n\u001b[0;32m    102\u001b[0m \u001b[39mdef\u001b[39;00m \u001b[39mfinalize\u001b[39m(\u001b[39mself\u001b[39m):\n\u001b[1;32m--> 103\u001b[0m     \u001b[39mself\u001b[39;49m\u001b[39m.\u001b[39;49mcheck()\n\u001b[0;32m    104\u001b[0m     \u001b[39mself\u001b[39m\u001b[39m.\u001b[39minfer_column_types()\n",
      "File \u001b[1;32m~\\AppData\\Roaming\\Python\\Python310\\site-packages\\autokeras\\analysers\\input_analysers.py:111\u001b[0m, in \u001b[0;36mStructuredDataAnalyser.check\u001b[1;34m(self)\u001b[0m\n\u001b[0;32m    109\u001b[0m \u001b[39mdef\u001b[39;00m \u001b[39mcheck\u001b[39m(\u001b[39mself\u001b[39m):\n\u001b[0;32m    110\u001b[0m     \u001b[39mif\u001b[39;00m \u001b[39mlen\u001b[39m(\u001b[39mself\u001b[39m\u001b[39m.\u001b[39mshape) \u001b[39m!=\u001b[39m \u001b[39m2\u001b[39m:\n\u001b[1;32m--> 111\u001b[0m         \u001b[39mraise\u001b[39;00m \u001b[39mValueError\u001b[39;00m(\n\u001b[0;32m    112\u001b[0m             \u001b[39m\"\u001b[39m\u001b[39mExpect the data to \u001b[39m\u001b[39m{input_name}\u001b[39;00m\u001b[39m to have shape \u001b[39m\u001b[39m\"\u001b[39m\n\u001b[0;32m    113\u001b[0m             \u001b[39m\"\u001b[39m\u001b[39m(batch_size, num_features), but \u001b[39m\u001b[39m\"\u001b[39m\n\u001b[0;32m    114\u001b[0m             \u001b[39m\"\u001b[39m\u001b[39mgot input shape \u001b[39m\u001b[39m{shape}\u001b[39;00m\u001b[39m.\u001b[39m\u001b[39m\"\u001b[39m\u001b[39m.\u001b[39mformat(\n\u001b[0;32m    115\u001b[0m                 input_name\u001b[39m=\u001b[39m\u001b[39mself\u001b[39m\u001b[39m.\u001b[39mget_input_name(), shape\u001b[39m=\u001b[39m\u001b[39mself\u001b[39m\u001b[39m.\u001b[39mshape\n\u001b[0;32m    116\u001b[0m             )\n\u001b[0;32m    117\u001b[0m         )\n\u001b[0;32m    119\u001b[0m     \u001b[39m# Fill in the column_names\u001b[39;00m\n\u001b[0;32m    120\u001b[0m     \u001b[39mif\u001b[39;00m \u001b[39mself\u001b[39m\u001b[39m.\u001b[39mcolumn_names \u001b[39mis\u001b[39;00m \u001b[39mNone\u001b[39;00m:\n",
      "\u001b[1;31mValueError\u001b[0m: Expect the data to StructuredDataInput to have shape (batch_size, num_features), but got input shape [32, 100, 1]."
     ]
    }
   ],
   "source": [
    "\n",
    "reg.fit(x=X_train, y=Y_train, verbose=0)"
   ]
  },
  {
   "cell_type": "code",
   "execution_count": 51,
   "id": "_EAR0zb41keP",
   "metadata": {
    "id": "_EAR0zb41keP"
   },
   "outputs": [
    {
     "ename": "NotFoundError",
     "evalue": "NewRandomAccessFile failed to Create/Open: .\\structured_data_regressor\\best_pipeline : The system cannot find the file specified.\r\n; No such file or directory",
     "output_type": "error",
     "traceback": [
      "\u001b[1;31m---------------------------------------------------------------------------\u001b[0m",
      "\u001b[1;31mNotFoundError\u001b[0m                             Traceback (most recent call last)",
      "Cell \u001b[1;32mIn[51], line 2\u001b[0m\n\u001b[0;32m      1\u001b[0m \u001b[39m# evaluate the model\u001b[39;00m\n\u001b[1;32m----> 2\u001b[0m mae, _  \u001b[39m=\u001b[39m reg\u001b[39m.\u001b[39;49mevaluate(X_test, Y_test, verbose\u001b[39m=\u001b[39;49m\u001b[39m0\u001b[39;49m)\n\u001b[0;32m      3\u001b[0m \u001b[39m#print('MAE: %.3f' % mae)\u001b[39;00m\n\u001b[0;32m      4\u001b[0m \u001b[39m# use the model to make a prediction\u001b[39;00m\n\u001b[0;32m      5\u001b[0m yhat_test \u001b[39m=\u001b[39m reg\u001b[39m.\u001b[39mpredict(X_test)\n",
      "File \u001b[1;32m~\\AppData\\Roaming\\Python\\Python310\\site-packages\\autokeras\\tasks\\structured_data.py:187\u001b[0m, in \u001b[0;36mBaseStructuredDataPipeline.evaluate\u001b[1;34m(self, x, y, **kwargs)\u001b[0m\n\u001b[0;32m    185\u001b[0m \u001b[39mif\u001b[39;00m \u001b[39misinstance\u001b[39m(x, \u001b[39mstr\u001b[39m):\n\u001b[0;32m    186\u001b[0m     x, y \u001b[39m=\u001b[39m \u001b[39mself\u001b[39m\u001b[39m.\u001b[39m_read_from_csv(x, y)\n\u001b[1;32m--> 187\u001b[0m \u001b[39mreturn\u001b[39;00m \u001b[39msuper\u001b[39m()\u001b[39m.\u001b[39mevaluate(x\u001b[39m=\u001b[39mx, y\u001b[39m=\u001b[39my, \u001b[39m*\u001b[39m\u001b[39m*\u001b[39mkwargs)\n",
      "File \u001b[1;32m~\\AppData\\Roaming\\Python\\Python310\\site-packages\\autokeras\\auto_model.py:489\u001b[0m, in \u001b[0;36mAutoModel.evaluate\u001b[1;34m(self, x, y, batch_size, verbose, **kwargs)\u001b[0m\n\u001b[0;32m    487\u001b[0m y \u001b[39m=\u001b[39m \u001b[39mself\u001b[39m\u001b[39m.\u001b[39m_adapt(y, \u001b[39mself\u001b[39m\u001b[39m.\u001b[39m_heads, batch_size)\n\u001b[0;32m    488\u001b[0m dataset \u001b[39m=\u001b[39m tf\u001b[39m.\u001b[39mdata\u001b[39m.\u001b[39mDataset\u001b[39m.\u001b[39mzip((x, y))\n\u001b[1;32m--> 489\u001b[0m pipeline \u001b[39m=\u001b[39m \u001b[39mself\u001b[39;49m\u001b[39m.\u001b[39;49mtuner\u001b[39m.\u001b[39;49mget_best_pipeline()\n\u001b[0;32m    490\u001b[0m dataset \u001b[39m=\u001b[39m pipeline\u001b[39m.\u001b[39mtransform(dataset)\n\u001b[0;32m    491\u001b[0m model \u001b[39m=\u001b[39m \u001b[39mself\u001b[39m\u001b[39m.\u001b[39mtuner\u001b[39m.\u001b[39mget_best_model()\n",
      "File \u001b[1;32m~\\AppData\\Roaming\\Python\\Python310\\site-packages\\autokeras\\engine\\tuner.py:67\u001b[0m, in \u001b[0;36mAutoTuner.get_best_pipeline\u001b[1;34m(self)\u001b[0m\n\u001b[0;32m     66\u001b[0m \u001b[39mdef\u001b[39;00m \u001b[39mget_best_pipeline\u001b[39m(\u001b[39mself\u001b[39m):\n\u001b[1;32m---> 67\u001b[0m     \u001b[39mreturn\u001b[39;00m pipeline_module\u001b[39m.\u001b[39;49mload_pipeline(\u001b[39mself\u001b[39;49m\u001b[39m.\u001b[39;49mbest_pipeline_path)\n",
      "File \u001b[1;32m~\\AppData\\Roaming\\Python\\Python310\\site-packages\\autokeras\\pipeline.py:77\u001b[0m, in \u001b[0;36mload_pipeline\u001b[1;34m(filepath, custom_objects)\u001b[0m\n\u001b[0;32m     75\u001b[0m     custom_objects \u001b[39m=\u001b[39m {}\n\u001b[0;32m     76\u001b[0m \u001b[39mwith\u001b[39;00m keras\u001b[39m.\u001b[39mutils\u001b[39m.\u001b[39mcustom_object_scope(custom_objects):\n\u001b[1;32m---> 77\u001b[0m     \u001b[39mreturn\u001b[39;00m Pipeline\u001b[39m.\u001b[39mfrom_config(io_utils\u001b[39m.\u001b[39;49mload_json(filepath))\n",
      "File \u001b[1;32m~\\AppData\\Roaming\\Python\\Python310\\site-packages\\autokeras\\utils\\io_utils.py:36\u001b[0m, in \u001b[0;36mload_json\u001b[1;34m(path)\u001b[0m\n\u001b[0;32m     34\u001b[0m \u001b[39mdef\u001b[39;00m \u001b[39mload_json\u001b[39m(path):\n\u001b[0;32m     35\u001b[0m     \u001b[39mwith\u001b[39;00m tf\u001b[39m.\u001b[39mio\u001b[39m.\u001b[39mgfile\u001b[39m.\u001b[39mGFile(path, \u001b[39m\"\u001b[39m\u001b[39mr\u001b[39m\u001b[39m\"\u001b[39m) \u001b[39mas\u001b[39;00m f:\n\u001b[1;32m---> 36\u001b[0m         obj \u001b[39m=\u001b[39m f\u001b[39m.\u001b[39;49mread()\n\u001b[0;32m     37\u001b[0m     \u001b[39mreturn\u001b[39;00m json\u001b[39m.\u001b[39mloads(obj)\n",
      "File \u001b[1;32m~\\AppData\\Roaming\\Python\\Python310\\site-packages\\tensorflow\\python\\lib\\io\\file_io.py:114\u001b[0m, in \u001b[0;36mFileIO.read\u001b[1;34m(self, n)\u001b[0m\n\u001b[0;32m    102\u001b[0m \u001b[39mdef\u001b[39;00m \u001b[39mread\u001b[39m(\u001b[39mself\u001b[39m, n\u001b[39m=\u001b[39m\u001b[39m-\u001b[39m\u001b[39m1\u001b[39m):\n\u001b[0;32m    103\u001b[0m   \u001b[39m\"\"\"Returns the contents of a file as a string.\u001b[39;00m\n\u001b[0;32m    104\u001b[0m \n\u001b[0;32m    105\u001b[0m \u001b[39m  Starts reading from current position in file.\u001b[39;00m\n\u001b[1;32m   (...)\u001b[0m\n\u001b[0;32m    112\u001b[0m \u001b[39m    string if in string (regular) mode.\u001b[39;00m\n\u001b[0;32m    113\u001b[0m \u001b[39m  \"\"\"\u001b[39;00m\n\u001b[1;32m--> 114\u001b[0m   \u001b[39mself\u001b[39;49m\u001b[39m.\u001b[39;49m_preread_check()\n\u001b[0;32m    115\u001b[0m   \u001b[39mif\u001b[39;00m n \u001b[39m==\u001b[39m \u001b[39m-\u001b[39m\u001b[39m1\u001b[39m:\n\u001b[0;32m    116\u001b[0m     length \u001b[39m=\u001b[39m \u001b[39mself\u001b[39m\u001b[39m.\u001b[39msize() \u001b[39m-\u001b[39m \u001b[39mself\u001b[39m\u001b[39m.\u001b[39mtell()\n",
      "File \u001b[1;32m~\\AppData\\Roaming\\Python\\Python310\\site-packages\\tensorflow\\python\\lib\\io\\file_io.py:76\u001b[0m, in \u001b[0;36mFileIO._preread_check\u001b[1;34m(self)\u001b[0m\n\u001b[0;32m     73\u001b[0m \u001b[39mif\u001b[39;00m \u001b[39mnot\u001b[39;00m \u001b[39mself\u001b[39m\u001b[39m.\u001b[39m_read_check_passed:\n\u001b[0;32m     74\u001b[0m   \u001b[39mraise\u001b[39;00m errors\u001b[39m.\u001b[39mPermissionDeniedError(\u001b[39mNone\u001b[39;00m, \u001b[39mNone\u001b[39;00m,\n\u001b[0;32m     75\u001b[0m                                      \u001b[39m\"\u001b[39m\u001b[39mFile isn\u001b[39m\u001b[39m'\u001b[39m\u001b[39mt open for reading\u001b[39m\u001b[39m\"\u001b[39m)\n\u001b[1;32m---> 76\u001b[0m \u001b[39mself\u001b[39m\u001b[39m.\u001b[39m_read_buf \u001b[39m=\u001b[39m _pywrap_file_io\u001b[39m.\u001b[39;49mBufferedInputStream(\n\u001b[0;32m     77\u001b[0m     compat\u001b[39m.\u001b[39;49mpath_to_str(\u001b[39mself\u001b[39;49m\u001b[39m.\u001b[39;49m__name), \u001b[39m1024\u001b[39;49m \u001b[39m*\u001b[39;49m \u001b[39m512\u001b[39;49m)\n",
      "\u001b[1;31mNotFoundError\u001b[0m: NewRandomAccessFile failed to Create/Open: .\\structured_data_regressor\\best_pipeline : The system cannot find the file specified.\r\n; No such file or directory"
     ]
    }
   ],
   "source": [
    "\n",
    "# evaluate the model\n",
    "mae, _  = reg.evaluate(X_test, Y_test, verbose=0)\n",
    "#print('MAE: %.3f' % mae)\n",
    "# use the model to make a prediction\n",
    "Yhat_test = reg.predict(X_test)\n",
    "\n",
    "# get the best performing model\n",
    "model = reg.export_model()\n"
   ]
  },
  {
   "cell_type": "code",
   "execution_count": null,
   "id": "XFyX-Bur2SgJ",
   "metadata": {
    "id": "XFyX-Bur2SgJ"
   },
   "outputs": [],
   "source": [
    "# summarize the loaded model\n",
    "model.summary()"
   ]
  },
  {
   "cell_type": "code",
   "execution_count": null,
   "id": "VWny4-JW2pKW",
   "metadata": {
    "id": "VWny4-JW2pKW"
   },
   "outputs": [],
   "source": [
    "Yhat_train= reg.predict(X_train)"
   ]
  },
  {
   "cell_type": "code",
   "execution_count": null,
   "id": "KIjUsMMz2r1Z",
   "metadata": {
    "id": "KIjUsMMz2r1Z"
   },
   "outputs": [],
   "source": [
    "train_predict=scaler.inverse_transform(Yhat_train)\n",
    "test_predict=scaler.inverse_transform(Yhat_test)"
   ]
  },
  {
   "cell_type": "code",
   "execution_count": null,
   "id": "0zK6AKcq3aZp",
   "metadata": {
    "id": "0zK6AKcq3aZp"
   },
   "outputs": [],
   "source": [
    "from sklearn.metrics import mean_squared_error"
   ]
  },
  {
   "cell_type": "code",
   "execution_count": null,
   "id": "4EknM_n43gSF",
   "metadata": {
    "id": "4EknM_n43gSF"
   },
   "outputs": [],
   "source": [
    "mean_squared_error(Y_test,Yhat_test)"
   ]
  },
  {
   "cell_type": "code",
   "execution_count": null,
   "id": "iQSmVcMGwWQc",
   "metadata": {
    "id": "iQSmVcMGwWQc"
   },
   "outputs": [],
   "source": [
    "mean_squared_error(Y_train,Yhat_train)"
   ]
  }
 ],
 "metadata": {
  "colab": {
   "collapsed_sections": [],
   "name": "New petrol prediction.ipynb",
   "provenance": []
  },
  "kernelspec": {
   "display_name": "Python 3",
   "language": "python",
   "name": "python3"
  },
  "language_info": {
   "codemirror_mode": {
    "name": "ipython",
    "version": 3
   },
   "file_extension": ".py",
   "mimetype": "text/x-python",
   "name": "python",
   "nbconvert_exporter": "python",
   "pygments_lexer": "ipython3",
   "version": "3.10.9"
  }
 },
 "nbformat": 4,
 "nbformat_minor": 5
}
